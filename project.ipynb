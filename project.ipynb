{
  "nbformat": 4,
  "nbformat_minor": 0,
  "metadata": {
    "kernelspec": {
      "display_name": "Python 3",
      "language": "python",
      "name": "python3"
    },
    "language_info": {
      "codemirror_mode": {
        "name": "ipython",
        "version": 3
      },
      "file_extension": ".py",
      "mimetype": "text/x-python",
      "name": "python",
      "nbconvert_exporter": "python",
      "pygments_lexer": "ipython3",
      "version": "3.9.2"
    },
    "colab": {
      "name": "project.ipynb",
      "provenance": [],
      "collapsed_sections": [],
      "include_colab_link": true
    }
  },
  "cells": [
    {
      "cell_type": "markdown",
      "metadata": {
        "id": "view-in-github",
        "colab_type": "text"
      },
      "source": [
        "<a href=\"https://colab.research.google.com/github/asmaesough/Projet-Automtique-Forssa-Soughou-Yacoubi/blob/master/project.ipynb\" target=\"_parent\"><img src=\"https://colab.research.google.com/assets/colab-badge.svg\" alt=\"Open In Colab\"/></a>"
      ]
    },
    {
      "cell_type": "code",
      "metadata": {
        "id": "O5VpGM8-qyvB"
      },
      "source": [
        "from numpy import *\n",
        "from numpy.linalg import *\n",
        "from scipy.integrate import *\n",
        "from scipy.signal import *\n",
        "\n",
        "%matplotlib notebook\n",
        "from matplotlib.pyplot import *\n",
        "from matplotlib.animation import FuncAnimation\n",
        "rcParams[\"figure.figsize\"] = (10,6)"
      ],
      "execution_count": null,
      "outputs": []
    },
    {
      "cell_type": "markdown",
      "metadata": {
        "id": "qkGpqKc0qyvL"
      },
      "source": [
        "Chariot Model\n",
        "==============\n",
        "\n",
        "We consider a mobile robot of \"chariot\" type, evolving in the plane.\n",
        "From above, its frame appears to be a disk of diameter $D$. It has two fixed wheels (their orientation does not change), which are parallel and located at opposite ends of the frame (hence separated by a distance of $D$) ;\n",
        "these wheels have the common radius $R$.\n",
        "\n",
        "The robot is symmetric with respect to the axis that joins the two wheels. For convenience, a green sticker is attached at the boundary of the frame on one side of this axis, on the robot axis of symmetry ; this side will is called the \"front\" of the robot, the point itself is called the \"nose\" of the robot. When we talk about the \"left wheel\" or the \"right wheel\", we assume that we are looking towards the front of the robot.\n",
        "\n",
        "We will denote $(x, y)$ the coordinates of the wheel axis in the orthonormal frame $(0, e_x, e_y)$ of the plane. The angle $\\theta$ refers to the angle of the wheels direction with respect to vector $e_x$ ; with\n",
        "$\\theta = 0$ when the front of the robot faces the right and $\\theta = \\pi/2$ when he faces the top.\n",
        "We will denote $\\phi_l$ and $\\phi_r$ the rotation angles of the left and right wheel respectively ; by convention, when these angles increase, the robot moves forward."
      ]
    },
    {
      "cell_type": "markdown",
      "metadata": {
        "id": "12IDyX2OqyvM"
      },
      "source": [
        "### Task - Parameter Definition\n",
        "\n",
        "\n",
        "From now on, we assume that the frame diameter is $D = 1 \\mbox{ m}$ and the wheel radius is $R = 10 \\mbox{ cm}$.\n",
        "Define the corresponding Python variables `D` and `R` (express every length in meters, and more generally in the sequel, always use the [international standard of units](https://en.wikipedia.org/wiki/SI_derived_unit)) for numerical values. "
      ]
    },
    {
      "cell_type": "markdown",
      "metadata": {
        "id": "5u9w5v02qyvN"
      },
      "source": [
        "### Task - Graphical Representation\n",
        "\n",
        "Use `matplotlib` to draw an image of the robot in the plane for arbitrary values of $(x, y)$ and $\\theta$. The frame will be represented as a circle, the wheels as lines and the nose as a green point."
      ]
    },
    {
      "cell_type": "code",
      "metadata": {
        "id": "64QkugqmqyvN",
        "colab": {
          "base_uri": "https://localhost:8080/",
          "height": 378
        },
        "outputId": "0c7cc955-6647-4d55-840a-5432fb7911f9"
      },
      "source": [
        "matplotlib.rcParams['figure.figsize'] = [6, 6]\n",
        "\n",
        "# Problem parameters\n",
        "D = 1\n",
        "R = 0.1\n",
        "e = 0.05\n",
        "\n",
        "# Robot position\n",
        "x = 0\n",
        "y = 0\n",
        "theta = 2*pi\n",
        "\n",
        "\n",
        "\n",
        "def rotate(x, y, theta):\n",
        "  return (x*cos(theta - pi / 2) - y*sin(theta - pi / 2), y*cos(theta - pi / 2) + x*sin(theta - pi / 2))\n",
        "\n",
        "def draw_robot(x, y, theta):\n",
        "  \n",
        "  # Pre-configuration\n",
        "  figure()\n",
        "  axes = gca()\n",
        "  axes.axis([-2*D + x, 2*D + x, -2*D + y, 2*D + y])\n",
        "  axes.set_aspect(1)\n",
        "  grid(True)\n",
        "\n",
        "  # Create Circles\n",
        "  circle1 = Circle((x, y), D/2, color='black', fill=False)\n",
        "  circle2 = Circle((rotate(0, (2/5)*D, theta)[0] + x, rotate(0, (2/5)*D, theta)[1] + y), 0.02, color='green')\n",
        "\n",
        "  # Create a Rectangle patch\n",
        "  rect_right = Rectangle((rotate(D/2, -R, theta)[0] + x, rotate(D/2, -R, theta)[1] + y), 0, 2*R, angle=degrees(theta - pi /2), linewidth=4, edgecolor='green', facecolor='none')\n",
        "  rect_left = Rectangle((rotate(-D/2, -R, theta)[0] + x, rotate(-D/2, -R, theta)[1] + y), 0, 2*R, angle=degrees(theta - pi/2), linewidth=4, edgecolor='green', facecolor='none')\n",
        "\n",
        "  # Create a Line\n",
        "  point1 = [-(D*cos(theta - pi/2)/2) + x, -(D*sin(theta - pi/2)/2) + y]\n",
        "  point2 = [(D*cos(theta - pi/2)/2) + x , (D*sin(theta - pi/2)/2) + y]\n",
        "  x_values = [point1[0], point2[0]]\n",
        "  y_values = [point1[1], point2[1]]\n",
        "\n",
        "\n",
        "\n",
        "  # Add the patch to the Axes\n",
        "  axes.add_patch(rect_right)\n",
        "  axes.add_patch(rect_left)\n",
        "  axes.add_patch(circle1)\n",
        "  axes.add_patch(circle2)\n",
        "  plot(x_values, y_values)\n",
        "  draw()\n",
        "\n",
        "draw_robot(0, 0, pi)"
      ],
      "execution_count": null,
      "outputs": [
        {
          "output_type": "display_data",
          "data": {
            "image/png": "[encoded data removed]",
            "text/plain": [
              "<Figure size 432x432 with 1 Axes>"
            ]
          },
          "metadata": {
            "tags": [],
            "needs_background": "light"
          }
        }
      ]
    },
    {
      "cell_type": "markdown",
      "metadata": {
        "id": "owMGlNc9qyvO"
      },
      "source": [
        "### Task - Kinematic Modeling\n",
        "\n",
        "We assume that we can control the wheels angular velocities $\\omega_l = \\dot{\\phi}_l$ and $\\omega_r = \\dot{\\phi}_r$ (this is a *kinematic* model of the robot).\n",
        "We also assume that the chariot wheels roll without slipping. \n",
        "\n",
        "Establish the differential equations that relate $\\dot{x}$,\n",
        "$\\dot{y}$ and $\\dot{\\theta}$ with $\\omega_l$ and $\\omega_r$."
      ]
    },
    {
      "cell_type": "markdown",
      "metadata": {
        "id": "DUTX6VFG30kE"
      },
      "source": [
        "We've got $$v_l=Rw_l$$\n",
        "and $$v_r=Rw_r$$\n",
        "then $$v=\\frac{1}{2}v_l+\\frac{1}{2}v_r=\\frac{R}{2}(\\omega_l+\\omega_r)$$\n",
        "\n",
        "Given that one wheel is fixed (i.e. the left wheel) and the other moves a distance $x_r$, we obtain:\n",
        " \n",
        "$$\\dot x_r=R\\omega_r=D\\dot \\theta_1$$\n",
        "so $$\\dot \\theta_1=\\frac{R}{D}\\omega_r$$\n",
        " \n",
        "When we repeat the process with the other wheel, but this time with a (-) to indicate the opposite direction of rotation, we get:\n",
        "\n",
        "$$\\dot \\theta_2=-\\frac{R}{D}\\omega_l$$\n",
        "thus $$\\omega=\\frac{R}{D}(\\omega_r-\\omega_l)$$\n",
        "We can get the following result by projecting the vector $v$ on $e_x$ and $e_y$:\n",
        "$$\\dot x=v_x=\\frac{R}{2}(\\omega_l+\\omega_r)cos(\\theta)$$\n",
        "$$\\dot y=v_y=\\frac{R}{2}(\\omega_l+\\omega_r)sin(\\theta)$$\n",
        "As a result, we have a system of differential equations:\n",
        "\n",
        "$$\\begin{cases} \\dot x=\\frac{R}{2}(\\omega_l+\\omega_r)cos(\\theta) \\\\ \\dot y=\\frac{R}{2}(\\omega_l+\\omega_r)sin(\\theta) \\\\  \\dot \\theta=\\frac{R}{D}(\\omega_r-\\omega_l)\n",
        "\\end{cases}$$\n"
      ]
    },
    {
      "cell_type": "markdown",
      "metadata": {
        "id": "wSj-ZMOMqyvO"
      },
      "source": [
        "### Task - Model Implementation\n",
        "\n",
        "Implement a function `f` that computes $\\dot{X} = (\\dot{x}, \\dot{y}, \\dot{\\theta})$ given $X = (x,y,\\theta)$ \n",
        "and $\\omega = (\\omega_l, \\omega_r)$.\n"
      ]
    },
    {
      "cell_type": "code",
      "metadata": {
        "id": "D4c55jZXqyvP"
      },
      "source": [
        "def f(t, X, omega):\n",
        "    x, y, theta = X\n",
        "    omega_l, omega_r = omega\n",
        "    dx=(R/2)*(omega_r+omega_l)*cos(theta)\n",
        "    dy=(R/2)*(omega_r+omega_l)*sin(theta)\n",
        "    dtheta=(R/D)*(omega_r-omega_l)\n",
        "    dX = array([dx, dy, dtheta])\n",
        "    return dX"
      ],
      "execution_count": null,
      "outputs": []
    },
    {
      "cell_type": "markdown",
      "metadata": {
        "id": "OS9Y33oeqyvP"
      },
      "source": [
        "### Task - Simulation Setup\n",
        "\n",
        "Show how the `solve_ivp` function can be used to solve the system dynamics on a span of 10 secs when:\n",
        "\n",
        "  - $\\omega$ is constant, equal to $\\omega_0 = (\\omega_{l0}, \\omega_{r0})$ and\n",
        "  \n",
        "  - $X_0 = (x_0, y_0, \\theta_0)$.\n",
        "  \n",
        "  "
      ]
    },
    {
      "cell_type": "code",
      "metadata": {
        "id": "-9_s_BBXieXX"
      },
      "source": [
        "def simulate(Ol=0.5, Or=0.5, x0=0, y0=0, theta0=pi/2):\n",
        "  omega_l0 = Ol\n",
        "  omega_r0 = Or\n",
        "  omega0 = [omega_l0, omega_r0]\n",
        "  print(\"Ol = \",Ol,\" Or= \", Or, \" x0 = \", x0,\" y0 = \", y0,\" theta0 = \", theta0)\n",
        "\n",
        "  def fun(t,X):\n",
        "    return f(t, X, omega0)\n",
        "\n",
        "  #Set an intervale of 10 seconds\n",
        "  t_span = [0.0, 10.0]\n",
        "\n",
        "  #Initial values\n",
        "  X0 = [x0, y0, theta0]\n",
        "  result = solve_ivp(fun=fun, t_span=t_span, y0=X0, dense_output=True, max_step=0.1)\n",
        "\n",
        "  Int=linspace(0, 10.0, 1000)\n",
        "\n",
        "  x, y, theta = result['sol'](Int)\n",
        "\n",
        "  figure()\n",
        "  plot(Int,x,\"b\", label='x')\n",
        "  plot(Int,y,\"g\", label='y')\n",
        "  plot(Int,theta,\"r\", label='theta')\n",
        "  legend()\n",
        "  grid(True)"
      ],
      "execution_count": null,
      "outputs": []
    },
    {
      "cell_type": "code",
      "metadata": {
        "colab": {
          "base_uri": "https://localhost:8080/",
          "height": 391
        },
        "id": "tvsI4AN7rhGI",
        "outputId": "63e2aff3-cdbc-4eb4-feb2-97e4dee20cee"
      },
      "source": [
        "simulate()"
      ],
      "execution_count": null,
      "outputs": [
        {
          "output_type": "stream",
          "text": [
            "Ol =  0.5  Or=  0.5  x0 =  0  y0 =  0  theta0 =  1.5707963267948966\n"
          ],
          "name": "stdout"
        },
        {
          "output_type": "display_data",
          "data": {
            "image/png": "[encoded data removed]",
            "text/plain": [
              "<Figure size 432x432 with 1 Axes>"
            ]
          },
          "metadata": {
            "tags": [],
            "needs_background": "light"
          }
        }
      ]
    },
    {
      "cell_type": "markdown",
      "metadata": {
        "id": "HMzR2OVuqyvQ"
      },
      "source": [
        "### Task: Simulation Validation\n",
        " \n",
        "  \n",
        "We would like to validate the results of our simulation code at this stage. \n",
        "\n",
        "To do this, select a few initials conditions $X_0$ and values of $\\omega_0$ that are \"as different as possible\" (we want to check that our simulation of the dynamics works in all cases) for which the analytical solution is know. Compute these solutions, then, plot $x$, $y$ and $\\theta$ as functions of the time $t$ and check that the result is consistent."
      ]
    },
    {
      "cell_type": "code",
      "metadata": {
        "colab": {
          "base_uri": "https://localhost:8080/",
          "height": 391
        },
        "id": "DSJ0qVEqp1JE",
        "outputId": "de31d044-824c-4bb4-a191-e2fc7616a3df"
      },
      "source": [
        "from random import random\n",
        "simulate(Ol=(random()-0.5)*20, Or=(random()-0.5)*20, x0=(random()-0.5)*20, y0=(random()-0.5)*20, theta0=(random()-0.5)*2*pi)"
      ],
      "execution_count": null,
      "outputs": [
        {
          "output_type": "stream",
          "text": [
            "Ol =  -8.658100954957618  Or=  -8.3310572697333  x0 =  7.9715779396312065  y0 =  -3.4456418907451902  theta0 =  -2.095160865940525\n"
          ],
          "name": "stdout"
        },
        {
          "output_type": "display_data",
          "data": {
            "image/png": "[encoded data removed]",
            "text/plain": [
              "<Figure size 432x432 with 1 Axes>"
            ]
          },
          "metadata": {
            "tags": [],
            "needs_background": "light"
          }
        }
      ]
    },
    {
      "cell_type": "markdown",
      "metadata": {
        "id": "Q0F0DHSQqyvQ"
      },
      "source": [
        "### Task: Time-dependent Inputs\n",
        "\n",
        "Provide a simulation code that handles the case of time-dependent angular velocities $\\omega_l$ and $\\omega_r$, for example:\n",
        "    "
      ]
    },
    {
      "cell_type": "code",
      "metadata": {
        "id": "NQkBs5PhqyvQ"
      },
      "source": [
        "def omega_l(t):\n",
        "    if t <= 5.0:\n",
        "        return pi * D\n",
        "    else:\n",
        "        return 0.0\n",
        "    \n",
        "def omega_r(t):\n",
        "    if t >= 5.0:\n",
        "        return pi * D\n",
        "    else:\n",
        "        return 0.0"
      ],
      "execution_count": null,
      "outputs": []
    },
    {
      "cell_type": "code",
      "metadata": {
        "id": "RzxhB87czQk7"
      },
      "source": [
        "def simulate_time(x0=0, y0=0, theta0=pi/2):\n",
        "\n",
        "  print(\"x0 = \", x0,\" y0 = \", y0,\" theta0 = \", theta0)\n",
        "\n",
        "  def fun(t,X):\n",
        "    omega=[omega_l(t),omega_r(t)]\n",
        "    return f(t, X, omega)\n",
        "\n",
        "  #Set an intervale of 10 seconds\n",
        "  t_span = [0.0, 10.0]\n",
        "\n",
        "  #Initial values\n",
        "  X0 = [x0, y0, theta0]\n",
        "  result = solve_ivp(fun=fun, t_span=t_span, y0=X0, dense_output=True, max_step=0.1)\n",
        "\n",
        "  Int=linspace(0, 10.0, 1000)\n",
        "\n",
        "  x, y, theta = result['sol'](Int)\n",
        "\n",
        "  figure()\n",
        "  plot(Int,x,\"b\", label='x')\n",
        "  plot(Int,y,\"g\", label='y')\n",
        "  plot(Int,theta,\"r\", label='theta')\n",
        "  plot(x, y, 'k--', label='y en fonction de x')\n",
        "  legend()\n",
        "  grid(True)"
      ],
      "execution_count": null,
      "outputs": []
    },
    {
      "cell_type": "code",
      "metadata": {
        "colab": {
          "base_uri": "https://localhost:8080/",
          "height": 391
        },
        "id": "G0CU0PPSz3j_",
        "outputId": "9da030aa-4877-4108-e608-83ee84f74d9f"
      },
      "source": [
        "simulate_time(x0=(random()-0.5)*20, y0=(random()-0.5)*20, theta0=(random()-0.5)*2*pi)"
      ],
      "execution_count": null,
      "outputs": [
        {
          "output_type": "stream",
          "text": [
            "x0 =  -6.584809404359547  y0 =  3.967636007205828  theta0 =  -2.1605353857628358\n"
          ],
          "name": "stdout"
        },
        {
          "output_type": "display_data",
          "data": {
            "image/png": "[encoded data removed]",
            "text/plain": [
              "<Figure size 432x432 with 1 Axes>"
            ]
          },
          "metadata": {
            "tags": [],
            "needs_background": "light"
          }
        }
      ]
    },
    {
      "cell_type": "markdown",
      "metadata": {
        "id": "YFT4qLAhqyvR"
      },
      "source": [
        "### Task: Validation\n",
        "\n",
        "Compute the analytical solution for $X_0 = (0.0, 0.0, 0.0)$ for the time-dependent $\\omega(t)$ example and check that your simulation code outputs consistent results."
      ]
    },
    {
      "cell_type": "code",
      "metadata": {
        "colab": {
          "base_uri": "https://localhost:8080/",
          "height": 391
        },
        "id": "DHjUer44pt6E",
        "outputId": "b2014153-4008-45ca-fdb2-cb5cea28955b"
      },
      "source": [
        "simulate_time(x0=0, y0=0, theta0=0)"
      ],
      "execution_count": null,
      "outputs": [
        {
          "output_type": "stream",
          "text": [
            "x0 =  0  y0 =  0  theta0 =  0\n"
          ],
          "name": "stdout"
        },
        {
          "output_type": "display_data",
          "data": {
            "image/png": "[encoded data removed]",
            "text/plain": [
              "<Figure size 432x432 with 1 Axes>"
            ]
          },
          "metadata": {
            "tags": [],
            "needs_background": "light"
          }
        }
      ]
    },
    {
      "cell_type": "markdown",
      "metadata": {
        "id": "JWtObQdBqyvR"
      },
      "source": [
        "### Task: User-defined Sample Times\n",
        "\n",
        "Adapt your simulation code to generate arrays `x`, `y` and `theta` which correspond to a given array of time values `t` in $[0.0, 10.0]$. Test the code with `t = arange(0.0, 10.0, dt)` where `dt = 1.0 / 60.0` ; in this case we get a state update 60 times per second, something that is appropriate to display animations."
      ]
    },
    {
      "cell_type": "code",
      "metadata": {
        "colab": {
          "base_uri": "https://localhost:8080/",
          "height": 392
        },
        "id": "dON3Gy_AyzRW",
        "outputId": "c5d5910d-b2e2-4368-c578-b3ef02c6127d"
      },
      "source": [
        "def simulate_time_dt(x0=0, y0=0, theta0=pi/4):\n",
        "\n",
        "  print(\"x0 = \", x0,\" y0 = \", y0,\" theta0 = \", theta0)\n",
        "\n",
        "  def fun(t,X):\n",
        "    omega=[omega_l(t),omega_r(t)]\n",
        "    return f(t, X, omega)\n",
        "\n",
        "  #Set an intervale of 10 seconds\n",
        "  t_span = [0.0, 10.0]\n",
        "\n",
        "  #Initial values\n",
        "  X0 = [x0, y0, theta0]\n",
        "  result = solve_ivp(fun=fun, t_span=t_span, y0=X0, dense_output=True, max_step=0.1)\n",
        "\n",
        "  deltat=1.0 / 60.0\n",
        "\n",
        "  Int = arange(0.0, 10.0, deltat)\n",
        "\n",
        "  x, y, theta = result['sol'](Int)\n",
        "\n",
        "  figure()\n",
        "  plot(Int,x,\"b\", label='$x$')\n",
        "  plot(Int,y,\"g\", label='$y$')\n",
        "  plot(Int,theta,\"r\", label='$theta$')\n",
        "  plot(x, y, 'k--', label='$y(x)$')\n",
        "  legend()\n",
        "  grid(True)\n",
        "\n",
        "\n",
        "simulate_time_dt()"
      ],
      "execution_count": null,
      "outputs": [
        {
          "output_type": "stream",
          "text": [
            "x0 =  0  y0 =  0  theta0 =  0.7853981633974483\n"
          ],
          "name": "stdout"
        },
        {
          "output_type": "display_data",
          "data": {
            "image/png": "[encoded data removed]",
            "text/plain": [
              "<Figure size 432x432 with 1 Axes>"
            ]
          },
          "metadata": {
            "tags": [],
            "needs_background": "light"
          }
        }
      ]
    },
    {
      "cell_type": "markdown",
      "metadata": {
        "id": "g9v6uhebqyvS"
      },
      "source": [
        "### Task: Animation\n",
        "\n",
        "For each of the use cases considered so far, compute the solution as arrays `x`, `y` and `theta` which correspond to `t = arange(0.0, 10.0, dt)` where `dt = 1.0 / 60.0` and display the result of this simulation graphically as an animated robot in the plane. Refer to [this example notebook](https://github.com/boisgera/control-engineering-with-python/blob/master/examples/animation.ipynb) if necessary."
      ]
    },
    {
      "cell_type": "code",
      "metadata": {
        "id": "svpj2q5h3-DV"
      },
      "source": [
        "def fun(t,X):\n",
        "    omega=[omega_l(t),omega_r(t)]\n",
        "    return f(t, X, omega)\n",
        "\n",
        "#Set an intervale of 10 seconds\n",
        "t_span = [0.0, 10.0]\n",
        "\n",
        "#Initial values\n",
        "X0 = [0, 0, 0]\n",
        "result = solve_ivp(fun=fun, t_span=t_span, y0=X0, dense_output=True, max_step=0.1)\n",
        "deltat=1.0 / 60.0\n",
        "\n",
        "Int = arange(0.0, 10.0, deltat)\n",
        "\n",
        "x, y, theta = result['sol'](Int)"
      ],
      "execution_count": null,
      "outputs": []
    },
    {
      "cell_type": "code",
      "metadata": {
        "colab": {
          "base_uri": "https://localhost:8080/",
          "height": 17
        },
        "id": "rr1zK09G03oi",
        "outputId": "d5325065-0b52-4df5-81bc-de0b78390394"
      },
      "source": [
        "ori = linspace(0, 2*pi, 1000)\n",
        "\n",
        "fig = figure()\n",
        "ax = fig.add_subplot(111, autoscale_on=False, xlim=(-15, 15), ylim=(-10, 10))\n",
        "ax.set_aspect('equal')\n",
        "ax.grid()\n",
        "\n",
        "lines = [plot([],[])[0] for _ in range(4)]\n",
        "circle = Circle([0.0, 0.0], radius=0.1, fc=\"r\")\n",
        "ax.add_artist(circle)\n",
        "time_template = 'time = %.1fs'\n",
        "time_text = ax.text(0.05, 0.9, '', transform=ax.transAxes)\n",
        "\n",
        "\n",
        "# fonction à définir quand blit=True\n",
        "# crée l'arrière de l'animation qui sera présent sur chaque image\n",
        "def init():\n",
        "    for line in lines:\n",
        "        line.set_data([],[])\n",
        "        time_text.set_text('')\n",
        "    return lines, circle, time_text\n",
        "\n",
        "def animate(i):\n",
        "    x1 = x[i]+(D/2)*cos(ori)\n",
        "    x2 = y[i]+(D/2)*sin(ori)\n",
        "    lines[0].set_data(x1,x2)\n",
        "    \n",
        "    x0d=x[i]+(D/2)*sin(theta[i])\n",
        "    y0d=y[i]-(D/2)*cos(theta[i])\n",
        "    xroued=linspace(x0d-R*cos(theta[i]),x0d+R*cos(theta[i]),2)\n",
        "    yroued=y0d+(xroued-x0d)*tan(theta[i])\n",
        "    lines[1].set_data(xroued,yroued)\n",
        "    \n",
        "    x0g=x[i]+(D/2)*sin(theta[i]+pi)\n",
        "    y0g=y[i]-(D/2)*cos(theta[i]+pi)\n",
        "    xroueg=linspace(x0g-R*cos(theta[i]),x0g+R*cos(theta[i]),2)\n",
        "    yroueg=y0g+(xroueg-x0g)*tan(theta[i])\n",
        "    lines[2].set_data(xroueg,yroueg)\n",
        "    \n",
        "    y1 = x[0:i+1]\n",
        "    y2 = y[0:i+1]\n",
        "    lines[3].set_data(y1,y2)\n",
        "    \n",
        "    circle.center = [x[i]+(D/2)*cos(theta[i]),y[i]+(D/2)*sin(theta[i])]\n",
        "    time_text.set_text(time_template % (i*deltat))\n",
        "    return lines, circle, time_text\n",
        "\n",
        "ani = FuncAnimation(fig, animate, init_func=init, frames=range(0,len(Int)), blit=True, interval=deltat*1000, repeat=False)\n",
        "\n",
        "show()"
      ],
      "execution_count": 41,
      "outputs": [
        {
          "output_type": "display_data",
          "data": {
            "application/javascript": [
              "/* Put everything inside the global mpl namespace */\n",
              "window.mpl = {};\n",
              "\n",
              "\n",
              "mpl.get_websocket_type = function() {\n",
              "    if (typeof(WebSocket) !== 'undefined') {\n",
              "        return WebSocket;\n",
              "    } else if (typeof(MozWebSocket) !== 'undefined') {\n",
              "        return MozWebSocket;\n",
              "    } else {\n",
              "        alert('Your browser does not have WebSocket support. ' +\n",
              "              'Please try Chrome, Safari or Firefox ≥ 6. ' +\n",
              "              'Firefox 4 and 5 are also supported but you ' +\n",
              "              'have to enable WebSockets in about:config.');\n",
              "    };\n",
              "}\n",
              "\n",
              "mpl.figure = function(figure_id, websocket, ondownload, parent_element) {\n",
              "    this.id = figure_id;\n",
              "\n",
              "    this.ws = websocket;\n",
              "\n",
              "    this.supports_binary = (this.ws.binaryType != undefined);\n",
              "\n",
              "    if (!this.supports_binary) {\n",
              "        var warnings = document.getElementById(\"mpl-warnings\");\n",
              "        if (warnings) {\n",
              "            warnings.style.display = 'block';\n",
              "            warnings.textContent = (\n",
              "                \"This browser does not support binary websocket messages. \" +\n",
              "                    \"Performance may be slow.\");\n",
              "        }\n",
              "    }\n",
              "\n",
              "    this.imageObj = new Image();\n",
              "\n",
              "    this.context = undefined;\n",
              "    this.message = undefined;\n",
              "    this.canvas = undefined;\n",
              "    this.rubberband_canvas = undefined;\n",
              "    this.rubberband_context = undefined;\n",
              "    this.format_dropdown = undefined;\n",
              "\n",
              "    this.image_mode = 'full';\n",
              "\n",
              "    this.root = $('<div/>');\n",
              "    this._root_extra_style(this.root)\n",
              "    this.root.attr('style', 'display: inline-block');\n",
              "\n",
              "    $(parent_element).append(this.root);\n",
              "\n",
              "    this._init_header(this);\n",
              "    this._init_canvas(this);\n",
              "    this._init_toolbar(this);\n",
              "\n",
              "    var fig = this;\n",
              "\n",
              "    this.waiting = false;\n",
              "\n",
              "    this.ws.onopen =  function () {\n",
              "            fig.send_message(\"supports_binary\", {value: fig.supports_binary});\n",
              "            fig.send_message(\"send_image_mode\", {});\n",
              "            if (mpl.ratio != 1) {\n",
              "                fig.send_message(\"set_dpi_ratio\", {'dpi_ratio': mpl.ratio});\n",
              "            }\n",
              "            fig.send_message(\"refresh\", {});\n",
              "        }\n",
              "\n",
              "    this.imageObj.onload = function() {\n",
              "            if (fig.image_mode == 'full') {\n",
              "                // Full images could contain transparency (where diff images\n",
              "                // almost always do), so we need to clear the canvas so that\n",
              "                // there is no ghosting.\n",
              "                fig.context.clearRect(0, 0, fig.canvas.width, fig.canvas.height);\n",
              "            }\n",
              "            fig.context.drawImage(fig.imageObj, 0, 0);\n",
              "        };\n",
              "\n",
              "    this.imageObj.onunload = function() {\n",
              "        fig.ws.close();\n",
              "    }\n",
              "\n",
              "    this.ws.onmessage = this._make_on_message_function(this);\n",
              "\n",
              "    this.ondownload = ondownload;\n",
              "}\n",
              "\n",
              "mpl.figure.prototype._init_header = function() {\n",
              "    var titlebar = $(\n",
              "        '<div class=\"ui-dialog-titlebar ui-widget-header ui-corner-all ' +\n",
              "        'ui-helper-clearfix\"/>');\n",
              "    var titletext = $(\n",
              "        '<div class=\"ui-dialog-title\" style=\"width: 100%; ' +\n",
              "        'text-align: center; padding: 3px;\"/>');\n",
              "    titlebar.append(titletext)\n",
              "    this.root.append(titlebar);\n",
              "    this.header = titletext[0];\n",
              "}\n",
              "\n",
              "\n",
              "\n",
              "mpl.figure.prototype._canvas_extra_style = function(canvas_div) {\n",
              "\n",
              "}\n",
              "\n",
              "\n",
              "mpl.figure.prototype._root_extra_style = function(canvas_div) {\n",
              "\n",
              "}\n",
              "\n",
              "mpl.figure.prototype._init_canvas = function() {\n",
              "    var fig = this;\n",
              "\n",
              "    var canvas_div = $('<div/>');\n",
              "\n",
              "    canvas_div.attr('style', 'position: relative; clear: both; outline: 0');\n",
              "\n",
              "    function canvas_keyboard_event(event) {\n",
              "        return fig.key_event(event, event['data']);\n",
              "    }\n",
              "\n",
              "    canvas_div.keydown('key_press', canvas_keyboard_event);\n",
              "    canvas_div.keyup('key_release', canvas_keyboard_event);\n",
              "    this.canvas_div = canvas_div\n",
              "    this._canvas_extra_style(canvas_div)\n",
              "    this.root.append(canvas_div);\n",
              "\n",
              "    var canvas = $('<canvas/>');\n",
              "    canvas.addClass('mpl-canvas');\n",
              "    canvas.attr('style', \"left: 0; top: 0; z-index: 0; outline: 0\")\n",
              "\n",
              "    this.canvas = canvas[0];\n",
              "    this.context = canvas[0].getContext(\"2d\");\n",
              "\n",
              "    var backingStore = this.context.backingStorePixelRatio ||\n",
              "\tthis.context.webkitBackingStorePixelRatio ||\n",
              "\tthis.context.mozBackingStorePixelRatio ||\n",
              "\tthis.context.msBackingStorePixelRatio ||\n",
              "\tthis.context.oBackingStorePixelRatio ||\n",
              "\tthis.context.backingStorePixelRatio || 1;\n",
              "\n",
              "    mpl.ratio = (window.devicePixelRatio || 1) / backingStore;\n",
              "\n",
              "    var rubberband = $('<canvas/>');\n",
              "    rubberband.attr('style', \"position: absolute; left: 0; top: 0; z-index: 1;\")\n",
              "\n",
              "    var pass_mouse_events = true;\n",
              "\n",
              "    canvas_div.resizable({\n",
              "        start: function(event, ui) {\n",
              "            pass_mouse_events = false;\n",
              "        },\n",
              "        resize: function(event, ui) {\n",
              "            fig.request_resize(ui.size.width, ui.size.height);\n",
              "        },\n",
              "        stop: function(event, ui) {\n",
              "            pass_mouse_events = true;\n",
              "            fig.request_resize(ui.size.width, ui.size.height);\n",
              "        },\n",
              "    });\n",
              "\n",
              "    function mouse_event_fn(event) {\n",
              "        if (pass_mouse_events)\n",
              "            return fig.mouse_event(event, event['data']);\n",
              "    }\n",
              "\n",
              "    rubberband.mousedown('button_press', mouse_event_fn);\n",
              "    rubberband.mouseup('button_release', mouse_event_fn);\n",
              "    // Throttle sequential mouse events to 1 every 20ms.\n",
              "    rubberband.mousemove('motion_notify', mouse_event_fn);\n",
              "\n",
              "    rubberband.mouseenter('figure_enter', mouse_event_fn);\n",
              "    rubberband.mouseleave('figure_leave', mouse_event_fn);\n",
              "\n",
              "    canvas_div.on(\"wheel\", function (event) {\n",
              "        event = event.originalEvent;\n",
              "        event['data'] = 'scroll'\n",
              "        if (event.deltaY < 0) {\n",
              "            event.step = 1;\n",
              "        } else {\n",
              "            event.step = -1;\n",
              "        }\n",
              "        mouse_event_fn(event);\n",
              "    });\n",
              "\n",
              "    canvas_div.append(canvas);\n",
              "    canvas_div.append(rubberband);\n",
              "\n",
              "    this.rubberband = rubberband;\n",
              "    this.rubberband_canvas = rubberband[0];\n",
              "    this.rubberband_context = rubberband[0].getContext(\"2d\");\n",
              "    this.rubberband_context.strokeStyle = \"#000000\";\n",
              "\n",
              "    this._resize_canvas = function(width, height) {\n",
              "        // Keep the size of the canvas, canvas container, and rubber band\n",
              "        // canvas in synch.\n",
              "        canvas_div.css('width', width)\n",
              "        canvas_div.css('height', height)\n",
              "\n",
              "        canvas.attr('width', width * mpl.ratio);\n",
              "        canvas.attr('height', height * mpl.ratio);\n",
              "        canvas.attr('style', 'width: ' + width + 'px; height: ' + height + 'px;');\n",
              "\n",
              "        rubberband.attr('width', width);\n",
              "        rubberband.attr('height', height);\n",
              "    }\n",
              "\n",
              "    // Set the figure to an initial 600x600px, this will subsequently be updated\n",
              "    // upon first draw.\n",
              "    this._resize_canvas(600, 600);\n",
              "\n",
              "    // Disable right mouse context menu.\n",
              "    $(this.rubberband_canvas).bind(\"contextmenu\",function(e){\n",
              "        return false;\n",
              "    });\n",
              "\n",
              "    function set_focus () {\n",
              "        canvas.focus();\n",
              "        canvas_div.focus();\n",
              "    }\n",
              "\n",
              "    window.setTimeout(set_focus, 100);\n",
              "}\n",
              "\n",
              "mpl.figure.prototype._init_toolbar = function() {\n",
              "    var fig = this;\n",
              "\n",
              "    var nav_element = $('<div/>');\n",
              "    nav_element.attr('style', 'width: 100%');\n",
              "    this.root.append(nav_element);\n",
              "\n",
              "    // Define a callback function for later on.\n",
              "    function toolbar_event(event) {\n",
              "        return fig.toolbar_button_onclick(event['data']);\n",
              "    }\n",
              "    function toolbar_mouse_event(event) {\n",
              "        return fig.toolbar_button_onmouseover(event['data']);\n",
              "    }\n",
              "\n",
              "    for(var toolbar_ind in mpl.toolbar_items) {\n",
              "        var name = mpl.toolbar_items[toolbar_ind][0];\n",
              "        var tooltip = mpl.toolbar_items[toolbar_ind][1];\n",
              "        var image = mpl.toolbar_items[toolbar_ind][2];\n",
              "        var method_name = mpl.toolbar_items[toolbar_ind][3];\n",
              "\n",
              "        if (!name) {\n",
              "            // put a spacer in here.\n",
              "            continue;\n",
              "        }\n",
              "        var button = $('<button/>');\n",
              "        button.addClass('ui-button ui-widget ui-state-default ui-corner-all ' +\n",
              "                        'ui-button-icon-only');\n",
              "        button.attr('role', 'button');\n",
              "        button.attr('aria-disabled', 'false');\n",
              "        button.click(method_name, toolbar_event);\n",
              "        button.mouseover(tooltip, toolbar_mouse_event);\n",
              "\n",
              "        var icon_img = $('<span/>');\n",
              "        icon_img.addClass('ui-button-icon-primary ui-icon');\n",
              "        icon_img.addClass(image);\n",
              "        icon_img.addClass('ui-corner-all');\n",
              "\n",
              "        var tooltip_span = $('<span/>');\n",
              "        tooltip_span.addClass('ui-button-text');\n",
              "        tooltip_span.html(tooltip);\n",
              "\n",
              "        button.append(icon_img);\n",
              "        button.append(tooltip_span);\n",
              "\n",
              "        nav_element.append(button);\n",
              "    }\n",
              "\n",
              "    var fmt_picker_span = $('<span/>');\n",
              "\n",
              "    var fmt_picker = $('<select/>');\n",
              "    fmt_picker.addClass('mpl-toolbar-option ui-widget ui-widget-content');\n",
              "    fmt_picker_span.append(fmt_picker);\n",
              "    nav_element.append(fmt_picker_span);\n",
              "    this.format_dropdown = fmt_picker[0];\n",
              "\n",
              "    for (var ind in mpl.extensions) {\n",
              "        var fmt = mpl.extensions[ind];\n",
              "        var option = $(\n",
              "            '<option/>', {selected: fmt === mpl.default_extension}).html(fmt);\n",
              "        fmt_picker.append(option);\n",
              "    }\n",
              "\n",
              "    // Add hover states to the ui-buttons\n",
              "    $( \".ui-button\" ).hover(\n",
              "        function() { $(this).addClass(\"ui-state-hover\");},\n",
              "        function() { $(this).removeClass(\"ui-state-hover\");}\n",
              "    );\n",
              "\n",
              "    var status_bar = $('<span class=\"mpl-message\"/>');\n",
              "    nav_element.append(status_bar);\n",
              "    this.message = status_bar[0];\n",
              "}\n",
              "\n",
              "mpl.figure.prototype.request_resize = function(x_pixels, y_pixels) {\n",
              "    // Request matplotlib to resize the figure. Matplotlib will then trigger a resize in the client,\n",
              "    // which will in turn request a refresh of the image.\n",
              "    this.send_message('resize', {'width': x_pixels, 'height': y_pixels});\n",
              "}\n",
              "\n",
              "mpl.figure.prototype.send_message = function(type, properties) {\n",
              "    properties['type'] = type;\n",
              "    properties['figure_id'] = this.id;\n",
              "    this.ws.send(JSON.stringify(properties));\n",
              "}\n",
              "\n",
              "mpl.figure.prototype.send_draw_message = function() {\n",
              "    if (!this.waiting) {\n",
              "        this.waiting = true;\n",
              "        this.ws.send(JSON.stringify({type: \"draw\", figure_id: this.id}));\n",
              "    }\n",
              "}\n",
              "\n",
              "\n",
              "mpl.figure.prototype.handle_save = function(fig, msg) {\n",
              "    var format_dropdown = fig.format_dropdown;\n",
              "    var format = format_dropdown.options[format_dropdown.selectedIndex].value;\n",
              "    fig.ondownload(fig, format);\n",
              "}\n",
              "\n",
              "\n",
              "mpl.figure.prototype.handle_resize = function(fig, msg) {\n",
              "    var size = msg['size'];\n",
              "    if (size[0] != fig.canvas.width || size[1] != fig.canvas.height) {\n",
              "        fig._resize_canvas(size[0], size[1]);\n",
              "        fig.send_message(\"refresh\", {});\n",
              "    };\n",
              "}\n",
              "\n",
              "mpl.figure.prototype.handle_rubberband = function(fig, msg) {\n",
              "    var x0 = msg['x0'] / mpl.ratio;\n",
              "    var y0 = (fig.canvas.height - msg['y0']) / mpl.ratio;\n",
              "    var x1 = msg['x1'] / mpl.ratio;\n",
              "    var y1 = (fig.canvas.height - msg['y1']) / mpl.ratio;\n",
              "    x0 = Math.floor(x0) + 0.5;\n",
              "    y0 = Math.floor(y0) + 0.5;\n",
              "    x1 = Math.floor(x1) + 0.5;\n",
              "    y1 = Math.floor(y1) + 0.5;\n",
              "    var min_x = Math.min(x0, x1);\n",
              "    var min_y = Math.min(y0, y1);\n",
              "    var width = Math.abs(x1 - x0);\n",
              "    var height = Math.abs(y1 - y0);\n",
              "\n",
              "    fig.rubberband_context.clearRect(\n",
              "        0, 0, fig.canvas.width / mpl.ratio, fig.canvas.height / mpl.ratio);\n",
              "\n",
              "    fig.rubberband_context.strokeRect(min_x, min_y, width, height);\n",
              "}\n",
              "\n",
              "mpl.figure.prototype.handle_figure_label = function(fig, msg) {\n",
              "    // Updates the figure title.\n",
              "    fig.header.textContent = msg['label'];\n",
              "}\n",
              "\n",
              "mpl.figure.prototype.handle_cursor = function(fig, msg) {\n",
              "    var cursor = msg['cursor'];\n",
              "    switch(cursor)\n",
              "    {\n",
              "    case 0:\n",
              "        cursor = 'pointer';\n",
              "        break;\n",
              "    case 1:\n",
              "        cursor = 'default';\n",
              "        break;\n",
              "    case 2:\n",
              "        cursor = 'crosshair';\n",
              "        break;\n",
              "    case 3:\n",
              "        cursor = 'move';\n",
              "        break;\n",
              "    }\n",
              "    fig.rubberband_canvas.style.cursor = cursor;\n",
              "}\n",
              "\n",
              "mpl.figure.prototype.handle_message = function(fig, msg) {\n",
              "    fig.message.textContent = msg['message'];\n",
              "}\n",
              "\n",
              "mpl.figure.prototype.handle_draw = function(fig, msg) {\n",
              "    // Request the server to send over a new figure.\n",
              "    fig.send_draw_message();\n",
              "}\n",
              "\n",
              "mpl.figure.prototype.handle_image_mode = function(fig, msg) {\n",
              "    fig.image_mode = msg['mode'];\n",
              "}\n",
              "\n",
              "mpl.figure.prototype.updated_canvas_event = function() {\n",
              "    // Called whenever the canvas gets updated.\n",
              "    this.send_message(\"ack\", {});\n",
              "}\n",
              "\n",
              "// A function to construct a web socket function for onmessage handling.\n",
              "// Called in the figure constructor.\n",
              "mpl.figure.prototype._make_on_message_function = function(fig) {\n",
              "    return function socket_on_message(evt) {\n",
              "        if (evt.data instanceof Blob) {\n",
              "            /* FIXME: We get \"Resource interpreted as Image but\n",
              "             * transferred with MIME type text/plain:\" errors on\n",
              "             * Chrome.  But how to set the MIME type?  It doesn't seem\n",
              "             * to be part of the websocket stream */\n",
              "            evt.data.type = \"image/png\";\n",
              "\n",
              "            /* Free the memory for the previous frames */\n",
              "            if (fig.imageObj.src) {\n",
              "                (window.URL || window.webkitURL).revokeObjectURL(\n",
              "                    fig.imageObj.src);\n",
              "            }\n",
              "\n",
              "            fig.imageObj.src = (window.URL || window.webkitURL).createObjectURL(\n",
              "                evt.data);\n",
              "            fig.updated_canvas_event();\n",
              "            fig.waiting = false;\n",
              "            return;\n",
              "        }\n",
              "        else if (typeof evt.data === 'string' && evt.data.slice(0, 21) == \"data:image/png;base64\") {\n",
              "            fig.imageObj.src = evt.data;\n",
              "            fig.updated_canvas_event();\n",
              "            fig.waiting = false;\n",
              "            return;\n",
              "        }\n",
              "\n",
              "        var msg = JSON.parse(evt.data);\n",
              "        var msg_type = msg['type'];\n",
              "\n",
              "        // Call the  \"handle_{type}\" callback, which takes\n",
              "        // the figure and JSON message as its only arguments.\n",
              "        try {\n",
              "            var callback = fig[\"handle_\" + msg_type];\n",
              "        } catch (e) {\n",
              "            console.log(\"No handler for the '\" + msg_type + \"' message type: \", msg);\n",
              "            return;\n",
              "        }\n",
              "\n",
              "        if (callback) {\n",
              "            try {\n",
              "                // console.log(\"Handling '\" + msg_type + \"' message: \", msg);\n",
              "                callback(fig, msg);\n",
              "            } catch (e) {\n",
              "                console.log(\"Exception inside the 'handler_\" + msg_type + \"' callback:\", e, e.stack, msg);\n",
              "            }\n",
              "        }\n",
              "    };\n",
              "}\n",
              "\n",
              "// from http://stackoverflow.com/questions/1114465/getting-mouse-location-in-canvas\n",
              "mpl.findpos = function(e) {\n",
              "    //this section is from http://www.quirksmode.org/js/events_properties.html\n",
              "    var targ;\n",
              "    if (!e)\n",
              "        e = window.event;\n",
              "    if (e.target)\n",
              "        targ = e.target;\n",
              "    else if (e.srcElement)\n",
              "        targ = e.srcElement;\n",
              "    if (targ.nodeType == 3) // defeat Safari bug\n",
              "        targ = targ.parentNode;\n",
              "\n",
              "    // jQuery normalizes the pageX and pageY\n",
              "    // pageX,Y are the mouse positions relative to the document\n",
              "    // offset() returns the position of the element relative to the document\n",
              "    var x = e.pageX - $(targ).offset().left;\n",
              "    var y = e.pageY - $(targ).offset().top;\n",
              "\n",
              "    return {\"x\": x, \"y\": y};\n",
              "};\n",
              "\n",
              "/*\n",
              " * return a copy of an object with only non-object keys\n",
              " * we need this to avoid circular references\n",
              " * http://stackoverflow.com/a/24161582/3208463\n",
              " */\n",
              "function simpleKeys (original) {\n",
              "  return Object.keys(original).reduce(function (obj, key) {\n",
              "    if (typeof original[key] !== 'object')\n",
              "        obj[key] = original[key]\n",
              "    return obj;\n",
              "  }, {});\n",
              "}\n",
              "\n",
              "mpl.figure.prototype.mouse_event = function(event, name) {\n",
              "    var canvas_pos = mpl.findpos(event)\n",
              "\n",
              "    if (name === 'button_press')\n",
              "    {\n",
              "        this.canvas.focus();\n",
              "        this.canvas_div.focus();\n",
              "    }\n",
              "\n",
              "    var x = canvas_pos.x * mpl.ratio;\n",
              "    var y = canvas_pos.y * mpl.ratio;\n",
              "\n",
              "    this.send_message(name, {x: x, y: y, button: event.button,\n",
              "                             step: event.step,\n",
              "                             guiEvent: simpleKeys(event)});\n",
              "\n",
              "    /* This prevents the web browser from automatically changing to\n",
              "     * the text insertion cursor when the button is pressed.  We want\n",
              "     * to control all of the cursor setting manually through the\n",
              "     * 'cursor' event from matplotlib */\n",
              "    event.preventDefault();\n",
              "    return false;\n",
              "}\n",
              "\n",
              "mpl.figure.prototype._key_event_extra = function(event, name) {\n",
              "    // Handle any extra behaviour associated with a key event\n",
              "}\n",
              "\n",
              "mpl.figure.prototype.key_event = function(event, name) {\n",
              "\n",
              "    // Prevent repeat events\n",
              "    if (name == 'key_press')\n",
              "    {\n",
              "        if (event.which === this._key)\n",
              "            return;\n",
              "        else\n",
              "            this._key = event.which;\n",
              "    }\n",
              "    if (name == 'key_release')\n",
              "        this._key = null;\n",
              "\n",
              "    var value = '';\n",
              "    if (event.ctrlKey && event.which != 17)\n",
              "        value += \"ctrl+\";\n",
              "    if (event.altKey && event.which != 18)\n",
              "        value += \"alt+\";\n",
              "    if (event.shiftKey && event.which != 16)\n",
              "        value += \"shift+\";\n",
              "\n",
              "    value += 'k';\n",
              "    value += event.which.toString();\n",
              "\n",
              "    this._key_event_extra(event, name);\n",
              "\n",
              "    this.send_message(name, {key: value,\n",
              "                             guiEvent: simpleKeys(event)});\n",
              "    return false;\n",
              "}\n",
              "\n",
              "mpl.figure.prototype.toolbar_button_onclick = function(name) {\n",
              "    if (name == 'download') {\n",
              "        this.handle_save(this, null);\n",
              "    } else {\n",
              "        this.send_message(\"toolbar_button\", {name: name});\n",
              "    }\n",
              "};\n",
              "\n",
              "mpl.figure.prototype.toolbar_button_onmouseover = function(tooltip) {\n",
              "    this.message.textContent = tooltip;\n",
              "};\n",
              "mpl.toolbar_items = [[\"Home\", \"Reset original view\", \"fa fa-home icon-home\", \"home\"], [\"Back\", \"Back to previous view\", \"fa fa-arrow-left icon-arrow-left\", \"back\"], [\"Forward\", \"Forward to next view\", \"fa fa-arrow-right icon-arrow-right\", \"forward\"], [\"\", \"\", \"\", \"\"], [\"Pan\", \"Pan axes with left mouse, zoom with right\", \"fa fa-arrows icon-move\", \"pan\"], [\"Zoom\", \"Zoom to rectangle\", \"fa fa-square-o icon-check-empty\", \"zoom\"], [\"\", \"\", \"\", \"\"], [\"Download\", \"Download plot\", \"fa fa-floppy-o icon-save\", \"download\"]];\n",
              "\n",
              "mpl.extensions = [\"eps\", \"jpeg\", \"pdf\", \"png\", \"ps\", \"raw\", \"svg\", \"tif\"];\n",
              "\n",
              "mpl.default_extension = \"png\";var comm_websocket_adapter = function(comm) {\n",
              "    // Create a \"websocket\"-like object which calls the given IPython comm\n",
              "    // object with the appropriate methods. Currently this is a non binary\n",
              "    // socket, so there is still some room for performance tuning.\n",
              "    var ws = {};\n",
              "\n",
              "    ws.close = function() {\n",
              "        comm.close()\n",
              "    };\n",
              "    ws.send = function(m) {\n",
              "        //console.log('sending', m);\n",
              "        comm.send(m);\n",
              "    };\n",
              "    // Register the callback with on_msg.\n",
              "    comm.on_msg(function(msg) {\n",
              "        //console.log('receiving', msg['content']['data'], msg);\n",
              "        // Pass the mpl event to the overridden (by mpl) onmessage function.\n",
              "        ws.onmessage(msg['content']['data'])\n",
              "    });\n",
              "    return ws;\n",
              "}\n",
              "\n",
              "mpl.mpl_figure_comm = function(comm, msg) {\n",
              "    // This is the function which gets called when the mpl process\n",
              "    // starts-up an IPython Comm through the \"matplotlib\" channel.\n",
              "\n",
              "    var id = msg.content.data.id;\n",
              "    // Get hold of the div created by the display call when the Comm\n",
              "    // socket was opened in Python.\n",
              "    var element = $(\"#\" + id);\n",
              "    var ws_proxy = comm_websocket_adapter(comm)\n",
              "\n",
              "    function ondownload(figure, format) {\n",
              "        window.open(figure.imageObj.src);\n",
              "    }\n",
              "\n",
              "    var fig = new mpl.figure(id, ws_proxy,\n",
              "                           ondownload,\n",
              "                           element.get(0));\n",
              "\n",
              "    // Call onopen now - mpl needs it, as it is assuming we've passed it a real\n",
              "    // web socket which is closed, not our websocket->open comm proxy.\n",
              "    ws_proxy.onopen();\n",
              "\n",
              "    fig.parent_element = element.get(0);\n",
              "    fig.cell_info = mpl.find_output_cell(\"<div id='\" + id + \"'></div>\");\n",
              "    if (!fig.cell_info) {\n",
              "        console.error(\"Failed to find cell for figure\", id, fig);\n",
              "        return;\n",
              "    }\n",
              "\n",
              "    var output_index = fig.cell_info[2]\n",
              "    var cell = fig.cell_info[0];\n",
              "\n",
              "};\n",
              "\n",
              "mpl.figure.prototype.handle_close = function(fig, msg) {\n",
              "    var width = fig.canvas.width/mpl.ratio\n",
              "    fig.root.unbind('remove')\n",
              "\n",
              "    // Update the output cell to use the data from the current canvas.\n",
              "    fig.push_to_output();\n",
              "    var dataURL = fig.canvas.toDataURL();\n",
              "    // Re-enable the keyboard manager in IPython - without this line, in FF,\n",
              "    // the notebook keyboard shortcuts fail.\n",
              "    IPython.keyboard_manager.enable()\n",
              "    $(fig.parent_element).html('<img src=\"' + dataURL + '\" width=\"' + width + '\">');\n",
              "    fig.close_ws(fig, msg);\n",
              "}\n",
              "\n",
              "mpl.figure.prototype.close_ws = function(fig, msg){\n",
              "    fig.send_message('closing', msg);\n",
              "    // fig.ws.close()\n",
              "}\n",
              "\n",
              "mpl.figure.prototype.push_to_output = function(remove_interactive) {\n",
              "    // Turn the data on the canvas into data in the output cell.\n",
              "    var width = this.canvas.width/mpl.ratio\n",
              "    var dataURL = this.canvas.toDataURL();\n",
              "    this.cell_info[1]['text/html'] = '<img src=\"' + dataURL + '\" width=\"' + width + '\">';\n",
              "}\n",
              "\n",
              "mpl.figure.prototype.updated_canvas_event = function() {\n",
              "    // Tell IPython that the notebook contents must change.\n",
              "    IPython.notebook.set_dirty(true);\n",
              "    this.send_message(\"ack\", {});\n",
              "    var fig = this;\n",
              "    // Wait a second, then push the new image to the DOM so\n",
              "    // that it is saved nicely (might be nice to debounce this).\n",
              "    setTimeout(function () { fig.push_to_output() }, 1000);\n",
              "}\n",
              "\n",
              "mpl.figure.prototype._init_toolbar = function() {\n",
              "    var fig = this;\n",
              "\n",
              "    var nav_element = $('<div/>');\n",
              "    nav_element.attr('style', 'width: 100%');\n",
              "    this.root.append(nav_element);\n",
              "\n",
              "    // Define a callback function for later on.\n",
              "    function toolbar_event(event) {\n",
              "        return fig.toolbar_button_onclick(event['data']);\n",
              "    }\n",
              "    function toolbar_mouse_event(event) {\n",
              "        return fig.toolbar_button_onmouseover(event['data']);\n",
              "    }\n",
              "\n",
              "    for(var toolbar_ind in mpl.toolbar_items){\n",
              "        var name = mpl.toolbar_items[toolbar_ind][0];\n",
              "        var tooltip = mpl.toolbar_items[toolbar_ind][1];\n",
              "        var image = mpl.toolbar_items[toolbar_ind][2];\n",
              "        var method_name = mpl.toolbar_items[toolbar_ind][3];\n",
              "\n",
              "        if (!name) { continue; };\n",
              "\n",
              "        var button = $('<button class=\"btn btn-default\" href=\"#\" title=\"' + name + '\"><i class=\"fa ' + image + ' fa-lg\"></i></button>');\n",
              "        button.click(method_name, toolbar_event);\n",
              "        button.mouseover(tooltip, toolbar_mouse_event);\n",
              "        nav_element.append(button);\n",
              "    }\n",
              "\n",
              "    // Add the status bar.\n",
              "    var status_bar = $('<span class=\"mpl-message\" style=\"text-align:right; float: right;\"/>');\n",
              "    nav_element.append(status_bar);\n",
              "    this.message = status_bar[0];\n",
              "\n",
              "    // Add the close button to the window.\n",
              "    var buttongrp = $('<div class=\"btn-group inline pull-right\"></div>');\n",
              "    var button = $('<button class=\"btn btn-mini btn-primary\" href=\"#\" title=\"Stop Interaction\"><i class=\"fa fa-power-off icon-remove icon-large\"></i></button>');\n",
              "    button.click(function (evt) { fig.handle_close(fig, {}); } );\n",
              "    button.mouseover('Stop Interaction', toolbar_mouse_event);\n",
              "    buttongrp.append(button);\n",
              "    var titlebar = this.root.find($('.ui-dialog-titlebar'));\n",
              "    titlebar.prepend(buttongrp);\n",
              "}\n",
              "\n",
              "mpl.figure.prototype._root_extra_style = function(el){\n",
              "    var fig = this\n",
              "    el.on(\"remove\", function(){\n",
              "\tfig.close_ws(fig, {});\n",
              "    });\n",
              "}\n",
              "\n",
              "mpl.figure.prototype._canvas_extra_style = function(el){\n",
              "    // this is important to make the div 'focusable\n",
              "    el.attr('tabindex', 0)\n",
              "    // reach out to IPython and tell the keyboard manager to turn it's self\n",
              "    // off when our div gets focus\n",
              "\n",
              "    // location in version 3\n",
              "    if (IPython.notebook.keyboard_manager) {\n",
              "        IPython.notebook.keyboard_manager.register_events(el);\n",
              "    }\n",
              "    else {\n",
              "        // location in version 2\n",
              "        IPython.keyboard_manager.register_events(el);\n",
              "    }\n",
              "\n",
              "}\n",
              "\n",
              "mpl.figure.prototype._key_event_extra = function(event, name) {\n",
              "    var manager = IPython.notebook.keyboard_manager;\n",
              "    if (!manager)\n",
              "        manager = IPython.keyboard_manager;\n",
              "\n",
              "    // Check for shift+enter\n",
              "    if (event.shiftKey && event.which == 13) {\n",
              "        this.canvas_div.blur();\n",
              "        // select the cell after this one\n",
              "        var index = IPython.notebook.find_cell_index(this.cell_info[0]);\n",
              "        IPython.notebook.select(index + 1);\n",
              "    }\n",
              "}\n",
              "\n",
              "mpl.figure.prototype.handle_save = function(fig, msg) {\n",
              "    fig.ondownload(fig, null);\n",
              "}\n",
              "\n",
              "\n",
              "mpl.find_output_cell = function(html_output) {\n",
              "    // Return the cell and output element which can be found *uniquely* in the notebook.\n",
              "    // Note - this is a bit hacky, but it is done because the \"notebook_saving.Notebook\"\n",
              "    // IPython event is triggered only after the cells have been serialised, which for\n",
              "    // our purposes (turning an active figure into a static one), is too late.\n",
              "    var cells = IPython.notebook.get_cells();\n",
              "    var ncells = cells.length;\n",
              "    for (var i=0; i<ncells; i++) {\n",
              "        var cell = cells[i];\n",
              "        if (cell.cell_type === 'code'){\n",
              "            for (var j=0; j<cell.output_area.outputs.length; j++) {\n",
              "                var data = cell.output_area.outputs[j];\n",
              "                if (data.data) {\n",
              "                    // IPython >= 3 moved mimebundle to data attribute of output\n",
              "                    data = data.data;\n",
              "                }\n",
              "                if (data['text/html'] == html_output) {\n",
              "                    return [cell, data, j];\n",
              "                }\n",
              "            }\n",
              "        }\n",
              "    }\n",
              "}\n",
              "\n",
              "// Register the function which deals with the matplotlib target/channel.\n",
              "// The kernel may be null if the page has been refreshed.\n",
              "if (IPython.notebook.kernel != null) {\n",
              "    IPython.notebook.kernel.comm_manager.register_target('matplotlib', mpl.mpl_figure_comm);\n",
              "}\n"
            ],
            "text/plain": [
              "<IPython.core.display.Javascript object>"
            ]
          },
          "metadata": {
            "tags": []
          }
        },
        {
          "output_type": "display_data",
          "data": {
            "text/html": [
              "<div id='7261eb47-bd0d-492b-83d3-909bc93ecc8a'></div>"
            ],
            "text/plain": [
              "<IPython.core.display.HTML object>"
            ]
          },
          "metadata": {
            "tags": []
          }
        }
      ]
    },
    {
      "cell_type": "markdown",
      "metadata": {
        "id": "McB4TtaeqyvS"
      },
      "source": [
        "Local Control in a Lane\n",
        "==================="
      ]
    },
    {
      "cell_type": "markdown",
      "metadata": {
        "id": "UA7ywOtBqyvT"
      },
      "source": [
        "At Rest\n",
        "--------------------------------------"
      ]
    },
    {
      "cell_type": "markdown",
      "metadata": {
        "id": "czd5nkQhqyvT"
      },
      "source": [
        "### Task : Equilibrium\n",
        "\n",
        "Show that for a suitable (constant) choice $\\omega_e \\in \\mathbb{R}^2$ of the vector input $\\omega$, the state $X_e = (x_e, y_e, \\theta_e) = (0,0,0)$ is an equilibrium of the mobile robot.\n",
        "\n",
        "Show that for any other $\\omega_e$, the system has no equilibrium.\n",
        "\n",
        "Conversely, if $\\omega = \\omega_e$, what are the other equilibria of the system?"
      ]
    },
    {
      "cell_type": "markdown",
      "metadata": {
        "id": "JYCz3WXXqyvT"
      },
      "source": [
        "### Task : Linearized System\n",
        "\n",
        "\n",
        "Let $\\omega = \\omega_e$ and $X_e = (0,0,0)$.\n",
        "\n",
        "Introduce the error variables $\\Delta X = (\\Delta x, \\Delta y, \\Delta \\theta) = X - X_e$.\n",
        "Compute the corresponding linearized dynamics and put it in standard form: compute the matrices $A$ and $B$."
      ]
    },
    {
      "cell_type": "markdown",
      "metadata": {
        "id": "pVrrESbSqyvU"
      },
      "source": [
        "### Task : Stability Analysis\n",
        "\n",
        "\n",
        "Is the linearized system asymptotically stable around $(0,0,0)$ when $\\Delta \\omega = (0,0)$ ?\n",
        "\n",
        "Is the original system asymptotically stable ? Or even (locally) attractive ? Justify your answers."
      ]
    },
    {
      "cell_type": "markdown",
      "metadata": {
        "id": "NzHN833DqyvU"
      },
      "source": [
        "### Task : Linearized System\n",
        "Show that the linearized system is not controllable. "
      ]
    },
    {
      "cell_type": "markdown",
      "metadata": {
        "id": "jZAHifMSqyvU"
      },
      "source": [
        "### Task : Straight Line\n",
        "\n",
        "Let $x_r(t) = v t$ and $y_r(t) = 0$ where $v \\in \\mathbb{R}$ and $v \\neq 0$. Determine the set of trajectories $X_r(t) = (x_r(t), y_r(t), \\theta_r(t))$ which are admissible and compute the corresponding reference control $\\omega_r(t)$."
      ]
    },
    {
      "cell_type": "markdown",
      "metadata": {
        "id": "74cSZg4LqyvV"
      },
      "source": [
        "### Task : Linearized System\n",
        "\n",
        "Let $\\Delta X(t) = X(t) - X_r(t)$ and $\\Delta \\omega(t) = \\omega(t) - \\omega_r(t)$. Compute the linearized dynamics of the system. Is the system asymptotically stable ? Attractive ?"
      ]
    },
    {
      "cell_type": "markdown",
      "metadata": {
        "id": "0rn2ndRFqyvV"
      },
      "source": [
        "### Task : Linearized System\n",
        "Show that the linearized system is controllable."
      ]
    },
    {
      "cell_type": "markdown",
      "metadata": {
        "id": "o7gj_LErqyvV"
      },
      "source": [
        "### Task : Controller Design\n",
        "\n",
        "Implement a process that computes a gain matrix $K$ that places the poles of the linearized system at some arbitrary location. Select a location of the poles that asymptotically stabilizes the system.\n",
        "\n"
      ]
    },
    {
      "cell_type": "markdown",
      "metadata": {
        "id": "-mohTOZzqyvW"
      },
      "source": [
        "### Task: Controller Tuning I\n",
        "\n",
        "We assume that the reference velocity $v$ is $10$ km/h and that the robot starts at $X(0) = (0.0, 2.0, 0.0)$.\n",
        "Tune the poles so that the actual location $(x, y)$ is within 10 cm of the desired location within 10 sec and the linear velocity of each wheel never exceeds $15$ km/h.\n",
        "\n",
        "Plot the evolution of the robot angle. Why is it important to check that this angle stays small ?"
      ]
    },
    {
      "cell_type": "markdown",
      "metadata": {
        "id": "tsWNsyZ1qyvW"
      },
      "source": [
        "### Task: Controller Tuning II\n",
        "\n",
        "Repeat the controller design and tuning steps above using an optimal control methodology."
      ]
    },
    {
      "cell_type": "markdown",
      "metadata": {
        "id": "o7t0gZjgqyvW"
      },
      "source": [
        "### Task: Controller Validation"
      ]
    },
    {
      "cell_type": "markdown",
      "metadata": {
        "id": "tnxDuDHVqyvW"
      },
      "source": [
        "Test your controller on the \"true\" (nonlinear) dynamics. Adjust the controller tuning is necessary.\n",
        "\n",
        "Demonstrate the controller behavior with an animation of the robot."
      ]
    },
    {
      "cell_type": "markdown",
      "metadata": {
        "id": "2dru421zqyvX"
      },
      "source": [
        "Global Control and General Trajectories\n",
        "===================================="
      ]
    },
    {
      "cell_type": "markdown",
      "metadata": {
        "id": "_4Pa08P_qyvX"
      },
      "source": [
        "### Task - Nose Dynamics"
      ]
    },
    {
      "cell_type": "markdown",
      "metadata": {
        "id": "lcTSAwnJqyvX"
      },
      "source": [
        "Write the differential equation satisfied by the location $(x_n, y_n)$ of the robot nose. "
      ]
    },
    {
      "cell_type": "markdown",
      "metadata": {
        "id": "F2f4F40uqyvY"
      },
      "source": [
        "### Task - Admissible Trajectoiries"
      ]
    },
    {
      "cell_type": "markdown",
      "metadata": {
        "id": "3B1BpJMsqyvY"
      },
      "source": [
        "Show any (smooth) reference evolution of the robot nose $(x_n^r(t), y_n^r(t))$ and any initial state of the robot consistent with the initial nose location, there is an admissible trajectory $(x(t), y(t), \\theta(t))$ that corresponds to this reference. Hint: search the unique $\\omega_l(t)$ and $\\omega_r(t)$ -- as functions of $\\dot{x}_n^r(t)$, $\\dot{y}_n^r(t)$ and $\\theta(t)$ -- that satisfies this property. "
      ]
    },
    {
      "cell_type": "markdown",
      "metadata": {
        "id": "fbyFX3juqyvY"
      },
      "source": [
        "### Task - Stability\n",
        "\n",
        "Let $v>0$ be the value in m/s that corresponds to $10$ km/h and let $(x_n^r(t), y_n^r(t)) = (vt, 0)$.\n",
        "Simulate the robot evolution (with animation) with the choice for $\\omega_l$ and $\\omega_r$ of the previous question for different values of $X(0)$. In particular, investigate the case of à $\\theta(0)$ close to $0$, then close to $\\pi$. Is the system dynamics asymptotically stable in each case ?"
      ]
    },
    {
      "cell_type": "markdown",
      "metadata": {
        "id": "Vi5h9wrvqyvY"
      },
      "source": [
        "### Task - Trajectory Planning\n",
        "\n",
        "Consider three pillars (of radius 10 cm) whose centers are aligned and distant of 3 meters, say at the locations\n",
        "$$\n",
        "(1.5,0), (4.5, 0) \\mbox{ and } (7.5,0).\n",
        "$$\n",
        "Compute a reference trajectory trajectory that would lead the robot nose from $(0,0)$ (with a robot pointing to the right) to $(9,0)$ with a slalom between the pillars. Of course, you don't want the robot frame to bump into the pillars ! Display this trajectory graphically. What happens when if the inputs $\\omega_l(t)$ and $\\omega_r(t)$ are applied but the robot is not initially at the expected position ?\n"
      ]
    },
    {
      "cell_type": "markdown",
      "metadata": {
        "id": "j-cf1n2CqyvZ"
      },
      "source": [
        "### Task - Exact (Partial) Linearization\n",
        "\n",
        "Show that there is a function \n",
        "$$\n",
        "(\\omega_l, \\omega_r) = \\phi(X, u)\n",
        "$$ \n",
        "-- where $u = (u_1, u_2)$ is an *auxiliary control* -- such that the robot nose coordinates satisfy\n",
        "$$\n",
        "\\dot{x}_n = u_1 \\mbox{ and } \\dot{y}_n = u_2.\n",
        "$$\n"
      ]
    },
    {
      "cell_type": "markdown",
      "metadata": {
        "id": "t_Tb5XIaqyvZ"
      },
      "source": [
        "### Task - Stabilization\n",
        "\n",
        "Let $\\Delta x_n = x_n - x_n^r$ and $\\Delta y_n = y_n - y_n^r$. Can you find a control law $u$ such that $\\Delta x_n$ and $\\Delta y_n$ converge exponentially to $0$ with a prescribed time constant $T$ ? Consider again the slalom between the pillars when the initial configuration of the robot does not match the reference trajectory but with this new strategy and contrast with the previous attempt."
      ]
    }
  ]
}