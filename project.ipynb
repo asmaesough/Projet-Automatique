{
  "nbformat": 4,
  "nbformat_minor": 0,
  "metadata": {
    "kernelspec": {
      "display_name": "Python 3",
      "language": "python",
      "name": "python3"
    },
    "language_info": {
      "codemirror_mode": {
        "name": "ipython",
        "version": 3
      },
      "file_extension": ".py",
      "mimetype": "text/x-python",
      "name": "python",
      "nbconvert_exporter": "python",
      "pygments_lexer": "ipython3",
      "version": "3.9.2"
    },
    "colab": {
      "name": "project.ipynb",
      "provenance": [],
      "collapsed_sections": []
    }
  },
  "cells": [
    {
      "cell_type": "code",
      "metadata": {
        "id": "O5VpGM8-qyvB"
      },
      "source": [
        "from numpy import *\n",
        "from numpy.linalg import *\n",
        "from scipy.integrate import *\n",
        "from scipy.signal import *\n",
        "\n",
        "%matplotlib notebook\n",
        "from matplotlib.pyplot import *\n",
        "rcParams[\"figure.figsize\"] = (10,6)"
      ],
      "execution_count": null,
      "outputs": []
    },
    {
      "cell_type": "markdown",
      "metadata": {
        "id": "qkGpqKc0qyvL"
      },
      "source": [
        "Chariot Model\n",
        "==============\n",
        "\n",
        "We consider a mobile robot of \"chariot\" type, evolving in the plane.\n",
        "From above, its frame appears to be a disk of diameter $D$. It has two fixed wheels (their orientation does not change), which are parallel and located at opposite ends of the frame (hence separated by a distance of $D$) ;\n",
        "these wheels have the common radius $R$.\n",
        "\n",
        "The robot is symmetric with respect to the axis that joins the two wheels. For convenience, a green sticker is attached at the boundary of the frame on one side of this axis, on the robot axis of symmetry ; this side will is called the \"front\" of the robot, the point itself is called the \"nose\" of the robot. When we talk about the \"left wheel\" or the \"right wheel\", we assume that we are looking towards the front of the robot.\n",
        "\n",
        "We will denote $(x, y)$ the coordinates of the wheel axis in the orthonormal frame $(0, e_x, e_y)$ of the plane. The angle $\\theta$ refers to the angle of the wheels direction with respect to vector $e_x$ ; with\n",
        "$\\theta = 0$ when the front of the robot faces the right and $\\theta = \\pi/2$ when he faces the top.\n",
        "We will denote $\\phi_l$ and $\\phi_r$ the rotation angles of the left and right wheel respectively ; by convention, when these angles increase, the robot moves forward."
      ]
    },
    {
      "cell_type": "markdown",
      "metadata": {
        "id": "12IDyX2OqyvM"
      },
      "source": [
        "### Task - Parameter Definition\n",
        "\n",
        "\n",
        "From now on, we assume that the frame diameter is $D = 1 \\mbox{ m}$ and the wheel radius is $R = 10 \\mbox{ cm}$.\n",
        "Define the corresponding Python variables `D` and `R` (express every length in meters, and more generally in the sequel, always use the [international standard of units](https://en.wikipedia.org/wiki/SI_derived_unit)) for numerical values. "
      ]
    },
    {
      "cell_type": "markdown",
      "metadata": {
        "id": "5u9w5v02qyvN"
      },
      "source": [
        "### Task - Graphical Representation\n",
        "\n",
        "Use `matplotlib` to draw an image of the robot in the plane for arbitrary values of $(x, y)$ and $\\theta$. The frame will be represented as a circle, the wheels as lines and the nose as a green point."
      ]
    },
    {
      "cell_type": "code",
      "metadata": {
        "id": "64QkugqmqyvN",
        "colab": {
          "base_uri": "https://localhost:8080/",
          "height": 378
        },
        "outputId": "d3423463-ee94-469f-c96b-fc8c1e026dff"
      },
      "source": [
        "matplotlib.rcParams['figure.figsize'] = [6, 6]\n",
        "\n",
        "# Problem parameters\n",
        "D = 1\n",
        "R = 0.1\n",
        "e = 0.05\n",
        "\n",
        "# Robot position\n",
        "x = 0\n",
        "y = 0\n",
        "theta = 2*pi\n",
        "\n",
        "\n",
        "\n",
        "def rotate(x, y, theta):\n",
        "  return (x*cos(theta - pi / 2) - y*sin(theta - pi / 2), y*cos(theta - pi / 2) + x*sin(theta - pi / 2))\n",
        "\n",
        "def draw_robot(x, y, theta):\n",
        "  \n",
        "  # Pre-configuration\n",
        "  figure()\n",
        "  axes = gca()\n",
        "  axes.axis([-2*D + x, 2*D + x, -2*D + y, 2*D + y])\n",
        "  axes.set_aspect(1)\n",
        "  grid(True)\n",
        "\n",
        "  # Create Circles\n",
        "  circle1 = Circle((x, y), D/2, color='black', fill=False)\n",
        "  circle2 = Circle((rotate(0, (2/5)*D, theta)[0] + x, rotate(0, (2/5)*D, theta)[1] + y), 0.02, color='green')\n",
        "\n",
        "  # Create a Rectangle patch\n",
        "  rect_right = Rectangle((rotate(D/2, -R, theta)[0] + x, rotate(D/2, -R, theta)[1] + y), 0, 2*R, angle=degrees(theta - pi /2), linewidth=4, edgecolor='green', facecolor='none')\n",
        "  rect_left = Rectangle((rotate(-D/2, -R, theta)[0] + x, rotate(-D/2, -R, theta)[1] + y), 0, 2*R, angle=degrees(theta - pi/2), linewidth=4, edgecolor='green', facecolor='none')\n",
        "\n",
        "  # Create a Line\n",
        "  point1 = [-(D*cos(theta - pi/2)/2) + x, -(D*sin(theta - pi/2)/2) + y]\n",
        "  point2 = [(D*cos(theta - pi/2)/2) + x , (D*sin(theta - pi/2)/2) + y]\n",
        "  x_values = [point1[0], point2[0]]\n",
        "  y_values = [point1[1], point2[1]]\n",
        "\n",
        "\n",
        "\n",
        "  # Add the patch to the Axes\n",
        "  axes.add_patch(rect_right)\n",
        "  axes.add_patch(rect_left)\n",
        "  axes.add_patch(circle1)\n",
        "  axes.add_patch(circle2)\n",
        "  plot(x_values, y_values)\n",
        "  draw()\n",
        "\n",
        "draw_robot(0, 0, pi)"
      ],
      "execution_count": null,
      "outputs": [
        {
          "output_type": "display_data",
          "data": {
            "image/png": "[encoded data removed]",
            "text/plain": [
              "<Figure size 432x432 with 1 Axes>"
            ]
          },
          "metadata": {
            "tags": [],
            "needs_background": "light"
          }
        }
      ]
    },
    {
      "cell_type": "markdown",
      "metadata": {
        "id": "owMGlNc9qyvO"
      },
      "source": [
        "### Task - Kinematic Modeling\n",
        "\n",
        "We assume that we can control the wheels angular velocities $\\omega_l = \\dot{\\phi}_l$ and $\\omega_r = \\dot{\\phi}_r$ (this is a *kinematic* model of the robot).\n",
        "We also assume that the chariot wheels roll without slipping. \n",
        "\n",
        "Establish the differential equations that relate $\\dot{x}$,\n",
        "$\\dot{y}$ and $\\dot{\\theta}$ with $\\omega_l$ and $\\omega_r$."
      ]
    },
    {
      "cell_type": "markdown",
      "metadata": {
        "id": "DUTX6VFG30kE"
      },
      "source": [
        "We've got $$v_l=Rw_l$$\n",
        "and $$v_r=Rw_r$$\n",
        "then $$v=\\frac{1}{2}v_l+\\frac{1}{2}v_r=\\frac{R}{2}(\\omega_l+\\omega_r)$$\n",
        "\n",
        "Given that one wheel is fixed (i.e. the left wheel) and the other moves a distance $x_r$, we obtain:\n",
        " \n",
        "$$\\dot x_r=R\\omega_r=D\\dot \\theta_1$$\n",
        "so $$\\dot \\theta_1=\\frac{R}{D}\\omega_r$$\n",
        " \n",
        "When we repeat the process with the other wheel, but this time with a (-) to indicate the opposite direction of rotation, we get:\n",
        "\n",
        "$$\\dot \\theta_2=-\\frac{R}{D}\\omega_l$$\n",
        "thus $$\\omega=\\frac{R}{D}(\\omega_r-\\omega_l)$$\n",
        "We can get the following result by projecting the vector $v$ on $e_x$ and $e_y$:\n",
        "$$\\dot x=v_x=\\frac{R}{2}(\\omega_l+\\omega_r)cos(\\theta)$$\n",
        "$$\\dot y=v_y=\\frac{R}{2}(\\omega_l+\\omega_r)sin(\\theta)$$\n",
        "As a result, we have a system of differential equations:\n",
        "\n",
        "$$\\begin{cases} \\dot x=\\frac{R}{2}(\\omega_l+\\omega_r)cos(\\theta) \\\\ \\dot y=\\frac{R}{2}(\\omega_l+\\omega_r)sin(\\theta) \\\\  \\dot \\theta=\\frac{R}{D}(\\omega_r-\\omega_l)\n",
        "\\end{cases}$$\n"
      ]
    },
    {
      "cell_type": "markdown",
      "metadata": {
        "id": "wSj-ZMOMqyvO"
      },
      "source": [
        "### Task - Model Implementation\n",
        "\n",
        "Implement a function `f` that computes $\\dot{X} = (\\dot{x}, \\dot{y}, \\dot{\\theta})$ given $X = (x,y,\\theta)$ \n",
        "and $\\omega = (\\omega_l, \\omega_r)$.\n"
      ]
    },
    {
      "cell_type": "code",
      "metadata": {
        "id": "D4c55jZXqyvP"
      },
      "source": [
        "def f(t, X, omega):\n",
        "    x, y, theta = X\n",
        "    omega_l, omega_r = omega\n",
        "    dx=(R/2)*(omega_r+omega_l)*cos(theta)\n",
        "    dy=(R/2)*(omega_r+omega_l)*sin(theta)\n",
        "    dtheta=(R/D)*(omega_r-omega_l)\n",
        "    dX = array([dx, dy, dtheta])\n",
        "    return dX"
      ],
      "execution_count": 178,
      "outputs": []
    },
    {
      "cell_type": "markdown",
      "metadata": {
        "id": "OS9Y33oeqyvP"
      },
      "source": [
        "### Task - Simulation Setup\n",
        "\n",
        "Show how the `solve_ivp` function can be used to solve the system dynamics on a span of 10 secs when:\n",
        "\n",
        "  - $\\omega$ is constant, equal to $\\omega_0 = (\\omega_{l0}, \\omega_{r0})$ and\n",
        "  \n",
        "  - $X_0 = (x_0, y_0, \\theta_0)$.\n",
        "  \n",
        "  "
      ]
    },
    {
      "cell_type": "code",
      "metadata": {
        "id": "-9_s_BBXieXX"
      },
      "source": [
        "def simulate(Ol=0.5, Or=0.5, x0=0, y0=0, theta0=pi/2):\n",
        "  omega_l0 = Ol\n",
        "  omega_r0 = Or\n",
        "  omega0 = [omega_l0, omega_r0]\n",
        "  print(\"Ol = \",Ol,\" Or= \", Or, \" x0 = \", x0,\" y0 = \", y0,\" theta0 = \", theta0)\n",
        "\n",
        "  def fun(t,X):\n",
        "    return f(t, X, omega0)\n",
        "\n",
        "  #Set an intervale of 10 seconds\n",
        "  t_span = [0.0, 10.0]\n",
        "\n",
        "  #Initial values\n",
        "  X0 = [x0, y0, theta0]\n",
        "  result = solve_ivp(fun=fun, t_span=t_span, y0=X0, dense_output=True, max_step=0.1)\n",
        "\n",
        "  Int=linspace(0, 10.0, 1000)\n",
        "\n",
        "  x, y, theta = result['sol'](Int)\n",
        "\n",
        "  figure()\n",
        "  plot(Int,x,\"b\", label='x')\n",
        "  plot(Int,y,\"g\", label='y')\n",
        "  plot(Int,theta,\"r\", label='theta')\n",
        "  legend()\n",
        "  grid(True)"
      ],
      "execution_count": 229,
      "outputs": []
    },
    {
      "cell_type": "code",
      "metadata": {
        "colab": {
          "base_uri": "https://localhost:8080/",
          "height": 391
        },
        "id": "tvsI4AN7rhGI",
        "outputId": "63e2aff3-cdbc-4eb4-feb2-97e4dee20cee"
      },
      "source": [
        "simulate()"
      ],
      "execution_count": 231,
      "outputs": [
        {
          "output_type": "stream",
          "text": [
            "Ol =  0.5  Or=  0.5  x0 =  0  y0 =  0  theta0 =  1.5707963267948966\n"
          ],
          "name": "stdout"
        },
        {
          "output_type": "display_data",
          "data": {
            "image/png": "[encoded data removed]",
            "text/plain": [
              "<Figure size 432x432 with 1 Axes>"
            ]
          },
          "metadata": {
            "tags": [],
            "needs_background": "light"
          }
        }
      ]
    },
    {
      "cell_type": "markdown",
      "metadata": {
        "id": "HMzR2OVuqyvQ"
      },
      "source": [
        "### Task: Simulation Validation\n",
        " \n",
        "  \n",
        "We would like to validate the results of our simulation code at this stage. \n",
        "\n",
        "To do this, select a few initials conditions $X_0$ and values of $\\omega_0$ that are \"as different as possible\" (we want to check that our simulation of the dynamics works in all cases) for which the analytical solution is know. Compute these solutions, then, plot $x$, $y$ and $\\theta$ as functions of the time $t$ and check that the result is consistent."
      ]
    },
    {
      "cell_type": "code",
      "metadata": {
        "colab": {
          "base_uri": "https://localhost:8080/",
          "height": 391
        },
        "id": "DSJ0qVEqp1JE",
        "outputId": "0688dcec-ee92-4dd1-a6be-4d02d3c12fcd"
      },
      "source": [
        "from random import random\n",
        "simulate(Ol=(random()-0.5)*20, Or=(random()-0.5)*20, x0=(random()-0.5)*20, y0=(random()-0.5)*20, theta0=(random()-0.5)*2*pi)"
      ],
      "execution_count": 262,
      "outputs": [
        {
          "output_type": "stream",
          "text": [
            "Ol =  9.867830711292312  Or=  -3.3013851033342734  x0 =  -1.5897340201268717  y0 =  -2.2630123495698684  theta0 =  2.669285650756168\n"
          ],
          "name": "stdout"
        },
        {
          "output_type": "display_data",
          "data": {
            "image/png": "[encoded data removed]",
            "text/plain": [
              "<Figure size 432x432 with 1 Axes>"
            ]
          },
          "metadata": {
            "tags": [],
            "needs_background": "light"
          }
        }
      ]
    },
    {
      "cell_type": "markdown",
      "metadata": {
        "id": "Q0F0DHSQqyvQ"
      },
      "source": [
        "### Task: Time-dependent Inputs\n",
        "\n",
        "Provide a simulation code that handles the case of time-dependent angular velocities $\\omega_l$ and $\\omega_r$, for example:\n",
        "    "
      ]
    },
    {
      "cell_type": "code",
      "metadata": {
        "id": "NQkBs5PhqyvQ"
      },
      "source": [
        "def omega_l(t):\n",
        "    if t <= 5.0:\n",
        "        return pi * D\n",
        "    else:\n",
        "        return 0.0\n",
        "    \n",
        "def omega_r(t):\n",
        "    if t >= 5.0:\n",
        "        return pi * D\n",
        "    else:\n",
        "        return 0.0"
      ],
      "execution_count": 263,
      "outputs": []
    },
    {
      "cell_type": "code",
      "metadata": {
        "id": "RzxhB87czQk7"
      },
      "source": [
        "def simulate_time(x0=0, y0=0, theta0=pi/2):\n",
        "\n",
        "  print(\"x0 = \", x0,\" y0 = \", y0,\" theta0 = \", theta0)\n",
        "\n",
        "  def fun(t,X):\n",
        "    omega=[omega_l(t),omega_r(t)]\n",
        "    return f(t, X, omega)\n",
        "\n",
        "  #Set an intervale of 10 seconds\n",
        "  t_span = [0.0, 10.0]\n",
        "\n",
        "  #Initial values\n",
        "  X0 = [x0, y0, theta0]\n",
        "  result = solve_ivp(fun=fun, t_span=t_span, y0=X0, dense_output=True, max_step=0.1)\n",
        "\n",
        "  Int=linspace(0, 10.0, 1000)\n",
        "\n",
        "  x, y, theta = result['sol'](Int)\n",
        "\n",
        "  figure()\n",
        "  plot(Int,x,\"b\", label='x')\n",
        "  plot(Int,y,\"g\", label='y')\n",
        "  plot(Int,theta,\"r\", label='theta')\n",
        "  legend()\n",
        "  grid(True)"
      ],
      "execution_count": 264,
      "outputs": []
    },
    {
      "cell_type": "code",
      "metadata": {
        "colab": {
          "base_uri": "https://localhost:8080/",
          "height": 391
        },
        "id": "G0CU0PPSz3j_",
        "outputId": "07640451-38df-40d0-e115-ee693562cf11"
      },
      "source": [
        "simulate_time(x0=(random()-0.5)*20, y0=(random()-0.5)*20, theta0=(random()-0.5)*2*pi)"
      ],
      "execution_count": 269,
      "outputs": [
        {
          "output_type": "stream",
          "text": [
            "x0 =  -1.8447404903558873  y0 =  9.206558565618979  theta0 =  2.4904258465016484\n"
          ],
          "name": "stdout"
        },
        {
          "output_type": "display_data",
          "data": {
            "image/png": "[encoded data removed]",
            "text/plain": [
              "<Figure size 432x432 with 1 Axes>"
            ]
          },
          "metadata": {
            "tags": [],
            "needs_background": "light"
          }
        }
      ]
    },
    {
      "cell_type": "markdown",
      "metadata": {
        "id": "YFT4qLAhqyvR"
      },
      "source": [
        "### Task: Validation\n",
        "\n",
        "Compute the analytical solution for $X_0 = (0.0, 0.0, 0.0)$ for the time-dependent $\\omega(t)$ example and check that your simulation code outputs consistent results."
      ]
    },
    {
      "cell_type": "code",
      "metadata": {
        "colab": {
          "base_uri": "https://localhost:8080/",
          "height": 391
        },
        "id": "DHjUer44pt6E",
        "outputId": "cd014ecd-40d4-4332-dfe5-1620357368e5"
      },
      "source": [
        "simulate_time(x0=0, y0=0, theta0=0)"
      ],
      "execution_count": 270,
      "outputs": [
        {
          "output_type": "stream",
          "text": [
            "x0 =  0  y0 =  0  theta0 =  0\n"
          ],
          "name": "stdout"
        },
        {
          "output_type": "display_data",
          "data": {
            "image/png": "[encoded data removed]",
            "text/plain": [
              "<Figure size 432x432 with 1 Axes>"
            ]
          },
          "metadata": {
            "tags": [],
            "needs_background": "light"
          }
        }
      ]
    },
    {
      "cell_type": "markdown",
      "metadata": {
        "id": "JWtObQdBqyvR"
      },
      "source": [
        "### Task: User-defined Sample Times\n",
        "\n",
        "Adapt your simulation code to generate arrays `x`, `y` and `theta` which correspond to a given array of time values `t` in $[0.0, 10.0]$. Test the code with `t = arange(0.0, 10.0, dt)` where `dt = 1.0 / 60.0` ; in this case we get a state update 60 times per second, something that is appropriate to display animations."
      ]
    },
    {
      "cell_type": "markdown",
      "metadata": {
        "id": "g9v6uhebqyvS"
      },
      "source": [
        "### Task: Animation\n",
        "\n",
        "For each of the use cases considered so far, compute the solution as arrays `x`, `y` and `theta` which correspond to `t = arange(0.0, 10.0, dt)` where `dt = 1.0 / 60.0` and display the result of this simulation graphically as an animated robot in the plane. Refer to [this example notebook](https://github.com/boisgera/control-engineering-with-python/blob/master/examples/animation.ipynb) if necessary."
      ]
    },
    {
      "cell_type": "markdown",
      "metadata": {
        "id": "McB4TtaeqyvS"
      },
      "source": [
        "Local Control in a Lane\n",
        "==================="
      ]
    },
    {
      "cell_type": "markdown",
      "metadata": {
        "id": "UA7ywOtBqyvT"
      },
      "source": [
        "At Rest\n",
        "--------------------------------------"
      ]
    },
    {
      "cell_type": "markdown",
      "metadata": {
        "id": "czd5nkQhqyvT"
      },
      "source": [
        "### Task : Equilibrium\n",
        "\n",
        "Show that for a suitable (constant) choice $\\omega_e \\in \\mathbb{R}^2$ of the vector input $\\omega$, the state $X_e = (x_e, y_e, \\theta_e) = (0,0,0)$ is an equilibrium of the mobile robot.\n",
        "\n",
        "Show that for any other $\\omega_e$, the system has no equilibrium.\n",
        "\n",
        "Conversely, if $\\omega = \\omega_e$, what are the other equilibria of the system?"
      ]
    },
    {
      "cell_type": "markdown",
      "metadata": {
        "id": "JYCz3WXXqyvT"
      },
      "source": [
        "### Task : Linearized System\n",
        "\n",
        "\n",
        "Let $\\omega = \\omega_e$ and $X_e = (0,0,0)$.\n",
        "\n",
        "Introduce the error variables $\\Delta X = (\\Delta x, \\Delta y, \\Delta \\theta) = X - X_e$.\n",
        "Compute the corresponding linearized dynamics and put it in standard form: compute the matrices $A$ and $B$."
      ]
    },
    {
      "cell_type": "markdown",
      "metadata": {
        "id": "pVrrESbSqyvU"
      },
      "source": [
        "### Task : Stability Analysis\n",
        "\n",
        "\n",
        "Is the linearized system asymptotically stable around $(0,0,0)$ when $\\Delta \\omega = (0,0)$ ?\n",
        "\n",
        "Is the original system asymptotically stable ? Or even (locally) attractive ? Justify your answers."
      ]
    },
    {
      "cell_type": "markdown",
      "metadata": {
        "id": "NzHN833DqyvU"
      },
      "source": [
        "### Task : Linearized System\n",
        "Show that the linearized system is not controllable. "
      ]
    },
    {
      "cell_type": "markdown",
      "metadata": {
        "id": "jZAHifMSqyvU"
      },
      "source": [
        "### Task : Straight Line\n",
        "\n",
        "Let $x_r(t) = v t$ and $y_r(t) = 0$ where $v \\in \\mathbb{R}$ and $v \\neq 0$. Determine the set of trajectories $X_r(t) = (x_r(t), y_r(t), \\theta_r(t))$ which are admissible and compute the corresponding reference control $\\omega_r(t)$."
      ]
    },
    {
      "cell_type": "markdown",
      "metadata": {
        "id": "74cSZg4LqyvV"
      },
      "source": [
        "### Task : Linearized System\n",
        "\n",
        "Let $\\Delta X(t) = X(t) - X_r(t)$ and $\\Delta \\omega(t) = \\omega(t) - \\omega_r(t)$. Compute the linearized dynamics of the system. Is the system asymptotically stable ? Attractive ?"
      ]
    },
    {
      "cell_type": "markdown",
      "metadata": {
        "id": "0rn2ndRFqyvV"
      },
      "source": [
        "### Task : Linearized System\n",
        "Show that the linearized system is controllable."
      ]
    },
    {
      "cell_type": "markdown",
      "metadata": {
        "id": "o7gj_LErqyvV"
      },
      "source": [
        "### Task : Controller Design\n",
        "\n",
        "Implement a process that computes a gain matrix $K$ that places the poles of the linearized system at some arbitrary location. Select a location of the poles that asymptotically stabilizes the system.\n",
        "\n"
      ]
    },
    {
      "cell_type": "markdown",
      "metadata": {
        "id": "-mohTOZzqyvW"
      },
      "source": [
        "### Task: Controller Tuning I\n",
        "\n",
        "We assume that the reference velocity $v$ is $10$ km/h and that the robot starts at $X(0) = (0.0, 2.0, 0.0)$.\n",
        "Tune the poles so that the actual location $(x, y)$ is within 10 cm of the desired location within 10 sec and the linear velocity of each wheel never exceeds $15$ km/h.\n",
        "\n",
        "Plot the evolution of the robot angle. Why is it important to check that this angle stays small ?"
      ]
    },
    {
      "cell_type": "markdown",
      "metadata": {
        "id": "tsWNsyZ1qyvW"
      },
      "source": [
        "### Task: Controller Tuning II\n",
        "\n",
        "Repeat the controller design and tuning steps above using an optimal control methodology."
      ]
    },
    {
      "cell_type": "markdown",
      "metadata": {
        "id": "o7t0gZjgqyvW"
      },
      "source": [
        "### Task: Controller Validation"
      ]
    },
    {
      "cell_type": "markdown",
      "metadata": {
        "id": "tnxDuDHVqyvW"
      },
      "source": [
        "Test your controller on the \"true\" (nonlinear) dynamics. Adjust the controller tuning is necessary.\n",
        "\n",
        "Demonstrate the controller behavior with an animation of the robot."
      ]
    },
    {
      "cell_type": "markdown",
      "metadata": {
        "id": "2dru421zqyvX"
      },
      "source": [
        "Global Control and General Trajectories\n",
        "===================================="
      ]
    },
    {
      "cell_type": "markdown",
      "metadata": {
        "id": "_4Pa08P_qyvX"
      },
      "source": [
        "### Task - Nose Dynamics"
      ]
    },
    {
      "cell_type": "markdown",
      "metadata": {
        "id": "lcTSAwnJqyvX"
      },
      "source": [
        "Write the differential equation satisfied by the location $(x_n, y_n)$ of the robot nose. "
      ]
    },
    {
      "cell_type": "markdown",
      "metadata": {
        "id": "F2f4F40uqyvY"
      },
      "source": [
        "### Task - Admissible Trajectoiries"
      ]
    },
    {
      "cell_type": "markdown",
      "metadata": {
        "id": "3B1BpJMsqyvY"
      },
      "source": [
        "Show any (smooth) reference evolution of the robot nose $(x_n^r(t), y_n^r(t))$ and any initial state of the robot consistent with the initial nose location, there is an admissible trajectory $(x(t), y(t), \\theta(t))$ that corresponds to this reference. Hint: search the unique $\\omega_l(t)$ and $\\omega_r(t)$ -- as functions of $\\dot{x}_n^r(t)$, $\\dot{y}_n^r(t)$ and $\\theta(t)$ -- that satisfies this property. "
      ]
    },
    {
      "cell_type": "markdown",
      "metadata": {
        "id": "fbyFX3juqyvY"
      },
      "source": [
        "### Task - Stability\n",
        "\n",
        "Let $v>0$ be the value in m/s that corresponds to $10$ km/h and let $(x_n^r(t), y_n^r(t)) = (vt, 0)$.\n",
        "Simulate the robot evolution (with animation) with the choice for $\\omega_l$ and $\\omega_r$ of the previous question for different values of $X(0)$. In particular, investigate the case of à $\\theta(0)$ close to $0$, then close to $\\pi$. Is the system dynamics asymptotically stable in each case ?"
      ]
    },
    {
      "cell_type": "markdown",
      "metadata": {
        "id": "Vi5h9wrvqyvY"
      },
      "source": [
        "### Task - Trajectory Planning\n",
        "\n",
        "Consider three pillars (of radius 10 cm) whose centers are aligned and distant of 3 meters, say at the locations\n",
        "$$\n",
        "(1.5,0), (4.5, 0) \\mbox{ and } (7.5,0).\n",
        "$$\n",
        "Compute a reference trajectory trajectory that would lead the robot nose from $(0,0)$ (with a robot pointing to the right) to $(9,0)$ with a slalom between the pillars. Of course, you don't want the robot frame to bump into the pillars ! Display this trajectory graphically. What happens when if the inputs $\\omega_l(t)$ and $\\omega_r(t)$ are applied but the robot is not initially at the expected position ?\n"
      ]
    },
    {
      "cell_type": "markdown",
      "metadata": {
        "id": "j-cf1n2CqyvZ"
      },
      "source": [
        "### Task - Exact (Partial) Linearization\n",
        "\n",
        "Show that there is a function \n",
        "$$\n",
        "(\\omega_l, \\omega_r) = \\phi(X, u)\n",
        "$$ \n",
        "-- where $u = (u_1, u_2)$ is an *auxiliary control* -- such that the robot nose coordinates satisfy\n",
        "$$\n",
        "\\dot{x}_n = u_1 \\mbox{ and } \\dot{y}_n = u_2.\n",
        "$$\n"
      ]
    },
    {
      "cell_type": "markdown",
      "metadata": {
        "id": "t_Tb5XIaqyvZ"
      },
      "source": [
        "### Task - Stabilization\n",
        "\n",
        "Let $\\Delta x_n = x_n - x_n^r$ and $\\Delta y_n = y_n - y_n^r$. Can you find a control law $u$ such that $\\Delta x_n$ and $\\Delta y_n$ converge exponentially to $0$ with a prescribed time constant $T$ ? Consider again the slalom between the pillars when the initial configuration of the robot does not match the reference trajectory but with this new strategy and contrast with the previous attempt."
      ]
    }
  ]
}