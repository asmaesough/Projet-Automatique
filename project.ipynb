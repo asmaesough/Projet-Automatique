{
  "nbformat": 4,
  "nbformat_minor": 0,
  "metadata": {
    "kernelspec": {
      "display_name": "Python 3",
      "language": "python",
      "name": "python3"
    },
    "language_info": {
      "codemirror_mode": {
        "name": "ipython",
        "version": 3
      },
      "file_extension": ".py",
      "mimetype": "text/x-python",
      "name": "python",
      "nbconvert_exporter": "python",
      "pygments_lexer": "ipython3",
      "version": "3.9.2"
    },
    "colab": {
      "name": "project.ipynb",
      "provenance": [],
      "collapsed_sections": []
    }
  },
  "cells": [
    {
      "cell_type": "code",
      "metadata": {
        "id": "O5VpGM8-qyvB"
      },
      "source": [
        "from numpy import *\n",
        "from numpy.linalg import *\n",
        "from scipy.integrate import *\n",
        "from scipy.signal import *\n",
        "\n",
        "%matplotlib notebook\n",
        "from matplotlib.pyplot import *\n",
        "rcParams[\"figure.figsize\"] = (10,6)"
      ],
      "execution_count": null,
      "outputs": []
    },
    {
      "cell_type": "markdown",
      "metadata": {
        "id": "qkGpqKc0qyvL"
      },
      "source": [
        "Chariot Model\n",
        "==============\n",
        "\n",
        "We consider a mobile robot of \"chariot\" type, evolving in the plane.\n",
        "From above, its frame appears to be a disk of diameter $D$. It has two fixed wheels (their orientation does not change), which are parallel and located at opposite ends of the frame (hence separated by a distance of $D$) ;\n",
        "these wheels have the common radius $R$.\n",
        "\n",
        "The robot is symmetric with respect to the axis that joins the two wheels. For convenience, a green sticker is attached at the boundary of the frame on one side of this axis, on the robot axis of symmetry ; this side will is called the \"front\" of the robot, the point itself is called the \"nose\" of the robot. When we talk about the \"left wheel\" or the \"right wheel\", we assume that we are looking towards the front of the robot.\n",
        "\n",
        "We will denote $(x, y)$ the coordinates of the wheel axis in the orthonormal frame $(0, e_x, e_y)$ of the plane. The angle $\\theta$ refers to the angle of the wheels direction with respect to vector $e_x$ ; with\n",
        "$\\theta = 0$ when the front of the robot faces the right and $\\theta = \\pi/2$ when he faces the top.\n",
        "We will denote $\\phi_l$ and $\\phi_r$ the rotation angles of the left and right wheel respectively ; by convention, when these angles increase, the robot moves forward."
      ]
    },
    {
      "cell_type": "markdown",
      "metadata": {
        "id": "12IDyX2OqyvM"
      },
      "source": [
        "### Task - Parameter Definition\n",
        "\n",
        "\n",
        "From now on, we assume that the frame diameter is $D = 1 \\mbox{ m}$ and the wheel radius is $R = 10 \\mbox{ cm}$.\n",
        "Define the corresponding Python variables `D` and `R` (express every length in meters, and more generally in the sequel, always use the [international standard of units](https://en.wikipedia.org/wiki/SI_derived_unit)) for numerical values. "
      ]
    },
    {
      "cell_type": "markdown",
      "metadata": {
        "id": "5u9w5v02qyvN"
      },
      "source": [
        "### Task - Graphical Representation\n",
        "\n",
        "Use `matplotlib` to draw an image of the robot in the plane for arbitrary values of $(x, y)$ and $\\theta$. The frame will be represented as a circle, the wheels as lines and the nose as a green point."
      ]
    },
    {
      "cell_type": "code",
      "metadata": {
        "id": "64QkugqmqyvN",
        "colab": {
          "base_uri": "https://localhost:8080/",
          "height": 378
        },
        "outputId": "d3423463-ee94-469f-c96b-fc8c1e026dff"
      },
      "source": [
        "matplotlib.rcParams['figure.figsize'] = [6, 6]\n",
        "\n",
        "# Problem parameters\n",
        "D = 1\n",
        "R = 0.1\n",
        "e = 0.05\n",
        "\n",
        "# Robot position\n",
        "x = 0\n",
        "y = 0\n",
        "theta = 2*pi\n",
        "\n",
        "\n",
        "\n",
        "def rotate(x, y, theta):\n",
        "  return (x*cos(theta - pi / 2) - y*sin(theta - pi / 2), y*cos(theta - pi / 2) + x*sin(theta - pi / 2))\n",
        "\n",
        "def draw_robot(x, y, theta):\n",
        "  \n",
        "  # Pre-configuration\n",
        "  figure()\n",
        "  axes = gca()\n",
        "  axes.axis([-2*D + x, 2*D + x, -2*D + y, 2*D + y])\n",
        "  axes.set_aspect(1)\n",
        "  grid(True)\n",
        "\n",
        "  # Create Circles\n",
        "  circle1 = Circle((x, y), D/2, color='black', fill=False)\n",
        "  circle2 = Circle((rotate(0, (2/5)*D, theta)[0] + x, rotate(0, (2/5)*D, theta)[1] + y), 0.02, color='green')\n",
        "\n",
        "  # Create a Rectangle patch\n",
        "  rect_right = Rectangle((rotate(D/2, -R, theta)[0] + x, rotate(D/2, -R, theta)[1] + y), 0, 2*R, angle=degrees(theta - pi /2), linewidth=4, edgecolor='green', facecolor='none')\n",
        "  rect_left = Rectangle((rotate(-D/2, -R, theta)[0] + x, rotate(-D/2, -R, theta)[1] + y), 0, 2*R, angle=degrees(theta - pi/2), linewidth=4, edgecolor='green', facecolor='none')\n",
        "\n",
        "  # Create a Line\n",
        "  point1 = [-(D*cos(theta - pi/2)/2) + x, -(D*sin(theta - pi/2)/2) + y]\n",
        "  point2 = [(D*cos(theta - pi/2)/2) + x , (D*sin(theta - pi/2)/2) + y]\n",
        "  x_values = [point1[0], point2[0]]\n",
        "  y_values = [point1[1], point2[1]]\n",
        "\n",
        "\n",
        "\n",
        "  # Add the patch to the Axes\n",
        "  axes.add_patch(rect_right)\n",
        "  axes.add_patch(rect_left)\n",
        "  axes.add_patch(circle1)\n",
        "  axes.add_patch(circle2)\n",
        "  plot(x_values, y_values)\n",
        "  draw()\n",
        "\n",
        "draw_robot(0, 0, pi)"
      ],
      "execution_count": null,
      "outputs": [
        {
          "output_type": "display_data",
          "data": {
            "image/png": "[encoded data removed]",
            "text/plain": [
              "<Figure size 432x432 with 1 Axes>"
            ]
          },
          "metadata": {
            "tags": [],
            "needs_background": "light"
          }
        }
      ]
    },
    {
      "cell_type": "markdown",
      "metadata": {
        "id": "owMGlNc9qyvO"
      },
      "source": [
        "### Task - Kinematic Modeling\n",
        "\n",
        "We assume that we can control the wheels angular velocities $\\omega_l = \\dot{\\phi}_l$ and $\\omega_r = \\dot{\\phi}_r$ (this is a *kinematic* model of the robot).\n",
        "We also assume that the chariot wheels roll without slipping. \n",
        "\n",
        "Establish the differential equations that relate $\\dot{x}$,\n",
        "$\\dot{y}$ and $\\dot{\\theta}$ with $\\omega_l$ and $\\omega_r$."
      ]
    },
    {
      "cell_type": "markdown",
      "metadata": {
        "id": "DUTX6VFG30kE"
      },
      "source": [
        "![Capture d’écran 2021-04-26 à 13.32.07 (7).png](data:image/png;base64,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)\n",
        "\n",
        "We've got $$v_l=Rw_l$$\n",
        "and $$v_r=Rw_r$$\n",
        "then $$v=\\frac{1}{2}v_l+\\frac{1}{2}v_r=\\frac{R}{2}(\\omega_l+\\omega_r)$$\n",
        "\n",
        "Given that one wheel is fixed (i.e. the left wheel) and the other moves a distance $x_r$, we obtain:\n",
        " \n",
        "$$\\dot x_r=R\\omega_r=D\\dot \\theta_1$$\n",
        "so $$\\dot \\theta_1=\\frac{R}{D}\\omega_r$$\n",
        " \n",
        "When we repeat the process with the other wheel, but this time with a (-) to indicate the opposite direction of rotation, we get:\n",
        "\n",
        "$$\\dot \\theta_2=-\\frac{R}{D}\\omega_l$$\n",
        "thus $$\\omega=\\frac{R}{D}(\\omega_r-\\omega_l)$$\n",
        "We can get the following result by projecting the vector $v$ on $e_x$ and $e_y$:\n",
        "$$\\dot x=v_x=\\frac{R}{2}(\\omega_l+\\omega_r)cos(\\theta)$$\n",
        "$$\\dot y=v_y=\\frac{R}{2}(\\omega_l+\\omega_r)sin(\\theta)$$\n",
        "As a result, we have a system of differential equations:\n",
        "\n",
        "$$\\begin{cases} \\dot x=\\frac{R}{2}(\\omega_l+\\omega_r)cos(\\theta) \\\\ \\dot y=\\frac{R}{2}(\\omega_l+\\omega_r)sin(\\theta) \\\\  \\dot \\theta=\\frac{R}{D}(\\omega_r-\\omega_l)\n",
        "\\end{cases}$$\n"
      ]
    },
    {
      "cell_type": "markdown",
      "metadata": {
        "id": "wSj-ZMOMqyvO"
      },
      "source": [
        "### Task - Model Implementation\n",
        "\n",
        "Implement a function `f` that computes $\\dot{X} = (\\dot{x}, \\dot{y}, \\dot{\\theta})$ given $X = (x,y,\\theta)$ \n",
        "and $\\omega = (\\omega_l, \\omega_r)$.\n"
      ]
    },
    {
      "cell_type": "code",
      "metadata": {
        "id": "D4c55jZXqyvP"
      },
      "source": [
        "def f(t, X, omega):\n",
        "    x, y, theta = X\n",
        "    omega_l, omega_r = omega\n",
        "    dx=(R/2)*(omega_r+omega_l)*cos(theta)\n",
        "    dy=(R/2)*(omega_r+omega_l)*sin(theta)\n",
        "    dtheta=(R/D)*(omega_r-omega_l)\n",
        "    dX = array([dx, dy, dtheta])\n",
        "    return dX"
      ],
      "execution_count": 178,
      "outputs": []
    },
    {
      "cell_type": "markdown",
      "metadata": {
        "id": "OS9Y33oeqyvP"
      },
      "source": [
        "### Task - Simulation Setup\n",
        "\n",
        "Show how the `solve_ivp` function can be used to solve the system dynamics on a span of 10 secs when:\n",
        "\n",
        "  - $\\omega$ is constant, equal to $\\omega_0 = (\\omega_{l0}, \\omega_{r0})$ and\n",
        "  \n",
        "  - $X_0 = (x_0, y_0, \\theta_0)$.\n",
        "  \n",
        "  "
      ]
    },
    {
      "cell_type": "code",
      "metadata": {
        "id": "-9_s_BBXieXX"
      },
      "source": [
        "def simulate(Ol=0.5, Or=0.5, x0=0, y0=0, theta0=pi/2):\n",
        "  omega_l0 = Ol\n",
        "  omega_r0 = Or\n",
        "  omega0 = [omega_l0, omega_r0]\n",
        "  print(\"Ol = \",Ol,\" Or= \", Or, \" x0 = \", x0,\" y0 = \", y0,\" theta0 = \", theta0)\n",
        "\n",
        "  def fun(t,X):\n",
        "    return f(t, X, omega0)\n",
        "\n",
        "  #Set an intervale of 10 seconds\n",
        "  t_span = [0.0, 10.0]\n",
        "\n",
        "  #Initial values\n",
        "  X0 = [x0, y0, theta0]\n",
        "  result = solve_ivp(fun=fun, t_span=t_span, y0=X0, dense_output=True, max_step=0.1)\n",
        "\n",
        "  Int=linspace(0, 10.0, 1000)\n",
        "\n",
        "  x, y, theta = result['sol'](Int)\n",
        "\n",
        "  figure()\n",
        "  plot(Int,x,\"b\", label='x')\n",
        "  plot(Int,y,\"g\", label='y')\n",
        "  plot(Int,theta,\"r\", label='theta')\n",
        "  legend()\n",
        "  grid(True)"
      ],
      "execution_count": 229,
      "outputs": []
    },
    {
      "cell_type": "code",
      "metadata": {
        "colab": {
          "base_uri": "https://localhost:8080/",
          "height": 391
        },
        "id": "tvsI4AN7rhGI",
        "outputId": "63e2aff3-cdbc-4eb4-feb2-97e4dee20cee"
      },
      "source": [
        "simulate()"
      ],
      "execution_count": 231,
      "outputs": [
        {
          "output_type": "stream",
          "text": [
            "Ol =  0.5  Or=  0.5  x0 =  0  y0 =  0  theta0 =  1.5707963267948966\n"
          ],
          "name": "stdout"
        },
        {
          "output_type": "display_data",
          "data": {
            "image/png": "[encoded data removed]",
            "text/plain": [
              "<Figure size 432x432 with 1 Axes>"
            ]
          },
          "metadata": {
            "tags": [],
            "needs_background": "light"
          }
        }
      ]
    },
    {
      "cell_type": "markdown",
      "metadata": {
        "id": "HMzR2OVuqyvQ"
      },
      "source": [
        "### Task: Simulation Validation\n",
        " \n",
        "  \n",
        "We would like to validate the results of our simulation code at this stage. \n",
        "\n",
        "To do this, select a few initials conditions $X_0$ and values of $\\omega_0$ that are \"as different as possible\" (we want to check that our simulation of the dynamics works in all cases) for which the analytical solution is know. Compute these solutions, then, plot $x$, $y$ and $\\theta$ as functions of the time $t$ and check that the result is consistent."
      ]
    },
    {
      "cell_type": "code",
      "metadata": {
        "colab": {
          "base_uri": "https://localhost:8080/",
          "height": 391
        },
        "id": "DSJ0qVEqp1JE",
        "outputId": "0688dcec-ee92-4dd1-a6be-4d02d3c12fcd"
      },
      "source": [
        "from random import random\n",
        "simulate(Ol=(random()-0.5)*20, Or=(random()-0.5)*20, x0=(random()-0.5)*20, y0=(random()-0.5)*20, theta0=(random()-0.5)*2*pi)"
      ],
      "execution_count": 262,
      "outputs": [
        {
          "output_type": "stream",
          "text": [
            "Ol =  9.867830711292312  Or=  -3.3013851033342734  x0 =  -1.5897340201268717  y0 =  -2.2630123495698684  theta0 =  2.669285650756168\n"
          ],
          "name": "stdout"
        },
        {
          "output_type": "display_data",
          "data": {
            "image/png": "[encoded data removed]",
            "text/plain": [
              "<Figure size 432x432 with 1 Axes>"
            ]
          },
          "metadata": {
            "tags": [],
            "needs_background": "light"
          }
        }
      ]
    },
    {
      "cell_type": "markdown",
      "metadata": {
        "id": "Q0F0DHSQqyvQ"
      },
      "source": [
        "### Task: Time-dependent Inputs\n",
        "\n",
        "Provide a simulation code that handles the case of time-dependent angular velocities $\\omega_l$ and $\\omega_r$, for example:\n",
        "    "
      ]
    },
    {
      "cell_type": "code",
      "metadata": {
        "id": "NQkBs5PhqyvQ"
      },
      "source": [
        "def omega_l(t):\n",
        "    if t <= 5.0:\n",
        "        return pi * D\n",
        "    else:\n",
        "        return 0.0\n",
        "    \n",
        "def omega_r(t):\n",
        "    if t >= 5.0:\n",
        "        return pi * D\n",
        "    else:\n",
        "        return 0.0"
      ],
      "execution_count": 263,
      "outputs": []
    },
    {
      "cell_type": "code",
      "metadata": {
        "id": "RzxhB87czQk7"
      },
      "source": [
        "def simulate_time(x0=0, y0=0, theta0=pi/2):\n",
        "\n",
        "  print(\"x0 = \", x0,\" y0 = \", y0,\" theta0 = \", theta0)\n",
        "\n",
        "  def fun(t,X):\n",
        "    omega=[omega_l(t),omega_r(t)]\n",
        "    return f(t, X, omega)\n",
        "\n",
        "  #Set an intervale of 10 seconds\n",
        "  t_span = [0.0, 10.0]\n",
        "\n",
        "  #Initial values\n",
        "  X0 = [x0, y0, theta0]\n",
        "  result = solve_ivp(fun=fun, t_span=t_span, y0=X0, dense_output=True, max_step=0.1)\n",
        "\n",
        "  Int=linspace(0, 10.0, 1000)\n",
        "\n",
        "  x, y, theta = result['sol'](Int)\n",
        "\n",
        "  figure()\n",
        "  plot(Int,x,\"b\", label='x')\n",
        "  plot(Int,y,\"g\", label='y')\n",
        "  plot(Int,theta,\"r\", label='theta')\n",
        "  legend()\n",
        "  grid(True)"
      ],
      "execution_count": 264,
      "outputs": []
    },
    {
      "cell_type": "code",
      "metadata": {
        "colab": {
          "base_uri": "https://localhost:8080/",
          "height": 391
        },
        "id": "G0CU0PPSz3j_",
        "outputId": "07640451-38df-40d0-e115-ee693562cf11"
      },
      "source": [
        "simulate_time(x0=(random()-0.5)*20, y0=(random()-0.5)*20, theta0=(random()-0.5)*2*pi)"
      ],
      "execution_count": 269,
      "outputs": [
        {
          "output_type": "stream",
          "text": [
            "x0 =  -1.8447404903558873  y0 =  9.206558565618979  theta0 =  2.4904258465016484\n"
          ],
          "name": "stdout"
        },
        {
          "output_type": "display_data",
          "data": {
            "image/png": "[encoded data removed]",
            "text/plain": [
              "<Figure size 432x432 with 1 Axes>"
            ]
          },
          "metadata": {
            "tags": [],
            "needs_background": "light"
          }
        }
      ]
    },
    {
      "cell_type": "markdown",
      "metadata": {
        "id": "YFT4qLAhqyvR"
      },
      "source": [
        "### Task: Validation\n",
        "\n",
        "Compute the analytical solution for $X_0 = (0.0, 0.0, 0.0)$ for the time-dependent $\\omega(t)$ example and check that your simulation code outputs consistent results."
      ]
    },
    {
      "cell_type": "code",
      "metadata": {
        "id": "DHjUer44pt6E"
      },
      "source": [
        ""
      ],
      "execution_count": null,
      "outputs": []
    },
    {
      "cell_type": "markdown",
      "metadata": {
        "id": "JWtObQdBqyvR"
      },
      "source": [
        "### Task: User-defined Sample Times\n",
        "\n",
        "Adapt your simulation code to generate arrays `x`, `y` and `theta` which correspond to a given array of time values `t` in $[0.0, 10.0]$. Test the code with `t = arange(0.0, 10.0, dt)` where `dt = 1.0 / 60.0` ; in this case we get a state update 60 times per second, something that is appropriate to display animations."
      ]
    },
    {
      "cell_type": "markdown",
      "metadata": {
        "id": "g9v6uhebqyvS"
      },
      "source": [
        "### Task: Animation\n",
        "\n",
        "For each of the use cases considered so far, compute the solution as arrays `x`, `y` and `theta` which correspond to `t = arange(0.0, 10.0, dt)` where `dt = 1.0 / 60.0` and display the result of this simulation graphically as an animated robot in the plane. Refer to [this example notebook](https://github.com/boisgera/control-engineering-with-python/blob/master/examples/animation.ipynb) if necessary."
      ]
    },
    {
      "cell_type": "markdown",
      "metadata": {
        "id": "McB4TtaeqyvS"
      },
      "source": [
        "Local Control in a Lane\n",
        "==================="
      ]
    },
    {
      "cell_type": "markdown",
      "metadata": {
        "id": "UA7ywOtBqyvT"
      },
      "source": [
        "At Rest\n",
        "--------------------------------------"
      ]
    },
    {
      "cell_type": "markdown",
      "metadata": {
        "id": "czd5nkQhqyvT"
      },
      "source": [
        "### Task : Equilibrium\n",
        "\n",
        "Show that for a suitable (constant) choice $\\omega_e \\in \\mathbb{R}^2$ of the vector input $\\omega$, the state $X_e = (x_e, y_e, \\theta_e) = (0,0,0)$ is an equilibrium of the mobile robot.\n",
        "\n",
        "Show that for any other $\\omega_e$, the system has no equilibrium.\n",
        "\n",
        "Conversely, if $\\omega = \\omega_e$, what are the other equilibria of the system?"
      ]
    },
    {
      "cell_type": "markdown",
      "metadata": {
        "id": "JYCz3WXXqyvT"
      },
      "source": [
        "### Task : Linearized System\n",
        "\n",
        "\n",
        "Let $\\omega = \\omega_e$ and $X_e = (0,0,0)$.\n",
        "\n",
        "Introduce the error variables $\\Delta X = (\\Delta x, \\Delta y, \\Delta \\theta) = X - X_e$.\n",
        "Compute the corresponding linearized dynamics and put it in standard form: compute the matrices $A$ and $B$."
      ]
    },
    {
      "cell_type": "markdown",
      "metadata": {
        "id": "pVrrESbSqyvU"
      },
      "source": [
        "### Task : Stability Analysis\n",
        "\n",
        "\n",
        "Is the linearized system asymptotically stable around $(0,0,0)$ when $\\Delta \\omega = (0,0)$ ?\n",
        "\n",
        "Is the original system asymptotically stable ? Or even (locally) attractive ? Justify your answers."
      ]
    },
    {
      "cell_type": "markdown",
      "metadata": {
        "id": "NzHN833DqyvU"
      },
      "source": [
        "### Task : Linearized System\n",
        "Show that the linearized system is not controllable. "
      ]
    },
    {
      "cell_type": "markdown",
      "metadata": {
        "id": "jZAHifMSqyvU"
      },
      "source": [
        "### Task : Straight Line\n",
        "\n",
        "Let $x_r(t) = v t$ and $y_r(t) = 0$ where $v \\in \\mathbb{R}$ and $v \\neq 0$. Determine the set of trajectories $X_r(t) = (x_r(t), y_r(t), \\theta_r(t))$ which are admissible and compute the corresponding reference control $\\omega_r(t)$."
      ]
    },
    {
      "cell_type": "markdown",
      "metadata": {
        "id": "74cSZg4LqyvV"
      },
      "source": [
        "### Task : Linearized System\n",
        "\n",
        "Let $\\Delta X(t) = X(t) - X_r(t)$ and $\\Delta \\omega(t) = \\omega(t) - \\omega_r(t)$. Compute the linearized dynamics of the system. Is the system asymptotically stable ? Attractive ?"
      ]
    },
    {
      "cell_type": "markdown",
      "metadata": {
        "id": "0rn2ndRFqyvV"
      },
      "source": [
        "### Task : Linearized System\n",
        "Show that the linearized system is controllable."
      ]
    },
    {
      "cell_type": "markdown",
      "metadata": {
        "id": "o7gj_LErqyvV"
      },
      "source": [
        "### Task : Controller Design\n",
        "\n",
        "Implement a process that computes a gain matrix $K$ that places the poles of the linearized system at some arbitrary location. Select a location of the poles that asymptotically stabilizes the system.\n",
        "\n"
      ]
    },
    {
      "cell_type": "markdown",
      "metadata": {
        "id": "-mohTOZzqyvW"
      },
      "source": [
        "### Task: Controller Tuning I\n",
        "\n",
        "We assume that the reference velocity $v$ is $10$ km/h and that the robot starts at $X(0) = (0.0, 2.0, 0.0)$.\n",
        "Tune the poles so that the actual location $(x, y)$ is within 10 cm of the desired location within 10 sec and the linear velocity of each wheel never exceeds $15$ km/h.\n",
        "\n",
        "Plot the evolution of the robot angle. Why is it important to check that this angle stays small ?"
      ]
    },
    {
      "cell_type": "markdown",
      "metadata": {
        "id": "tsWNsyZ1qyvW"
      },
      "source": [
        "### Task: Controller Tuning II\n",
        "\n",
        "Repeat the controller design and tuning steps above using an optimal control methodology."
      ]
    },
    {
      "cell_type": "markdown",
      "metadata": {
        "id": "o7t0gZjgqyvW"
      },
      "source": [
        "### Task: Controller Validation"
      ]
    },
    {
      "cell_type": "markdown",
      "metadata": {
        "id": "tnxDuDHVqyvW"
      },
      "source": [
        "Test your controller on the \"true\" (nonlinear) dynamics. Adjust the controller tuning is necessary.\n",
        "\n",
        "Demonstrate the controller behavior with an animation of the robot."
      ]
    },
    {
      "cell_type": "markdown",
      "metadata": {
        "id": "2dru421zqyvX"
      },
      "source": [
        "Global Control and General Trajectories\n",
        "===================================="
      ]
    },
    {
      "cell_type": "markdown",
      "metadata": {
        "id": "_4Pa08P_qyvX"
      },
      "source": [
        "### Task - Nose Dynamics"
      ]
    },
    {
      "cell_type": "markdown",
      "metadata": {
        "id": "lcTSAwnJqyvX"
      },
      "source": [
        "Write the differential equation satisfied by the location $(x_n, y_n)$ of the robot nose. "
      ]
    },
    {
      "cell_type": "markdown",
      "metadata": {
        "id": "F2f4F40uqyvY"
      },
      "source": [
        "### Task - Admissible Trajectoiries"
      ]
    },
    {
      "cell_type": "markdown",
      "metadata": {
        "id": "3B1BpJMsqyvY"
      },
      "source": [
        "Show any (smooth) reference evolution of the robot nose $(x_n^r(t), y_n^r(t))$ and any initial state of the robot consistent with the initial nose location, there is an admissible trajectory $(x(t), y(t), \\theta(t))$ that corresponds to this reference. Hint: search the unique $\\omega_l(t)$ and $\\omega_r(t)$ -- as functions of $\\dot{x}_n^r(t)$, $\\dot{y}_n^r(t)$ and $\\theta(t)$ -- that satisfies this property. "
      ]
    },
    {
      "cell_type": "markdown",
      "metadata": {
        "id": "fbyFX3juqyvY"
      },
      "source": [
        "### Task - Stability\n",
        "\n",
        "Let $v>0$ be the value in m/s that corresponds to $10$ km/h and let $(x_n^r(t), y_n^r(t)) = (vt, 0)$.\n",
        "Simulate the robot evolution (with animation) with the choice for $\\omega_l$ and $\\omega_r$ of the previous question for different values of $X(0)$. In particular, investigate the case of à $\\theta(0)$ close to $0$, then close to $\\pi$. Is the system dynamics asymptotically stable in each case ?"
      ]
    },
    {
      "cell_type": "markdown",
      "metadata": {
        "id": "Vi5h9wrvqyvY"
      },
      "source": [
        "### Task - Trajectory Planning\n",
        "\n",
        "Consider three pillars (of radius 10 cm) whose centers are aligned and distant of 3 meters, say at the locations\n",
        "$$\n",
        "(1.5,0), (4.5, 0) \\mbox{ and } (7.5,0).\n",
        "$$\n",
        "Compute a reference trajectory trajectory that would lead the robot nose from $(0,0)$ (with a robot pointing to the right) to $(9,0)$ with a slalom between the pillars. Of course, you don't want the robot frame to bump into the pillars ! Display this trajectory graphically. What happens when if the inputs $\\omega_l(t)$ and $\\omega_r(t)$ are applied but the robot is not initially at the expected position ?\n"
      ]
    },
    {
      "cell_type": "markdown",
      "metadata": {
        "id": "j-cf1n2CqyvZ"
      },
      "source": [
        "### Task - Exact (Partial) Linearization\n",
        "\n",
        "Show that there is a function \n",
        "$$\n",
        "(\\omega_l, \\omega_r) = \\phi(X, u)\n",
        "$$ \n",
        "-- where $u = (u_1, u_2)$ is an *auxiliary control* -- such that the robot nose coordinates satisfy\n",
        "$$\n",
        "\\dot{x}_n = u_1 \\mbox{ and } \\dot{y}_n = u_2.\n",
        "$$\n"
      ]
    },
    {
      "cell_type": "markdown",
      "metadata": {
        "id": "t_Tb5XIaqyvZ"
      },
      "source": [
        "### Task - Stabilization\n",
        "\n",
        "Let $\\Delta x_n = x_n - x_n^r$ and $\\Delta y_n = y_n - y_n^r$. Can you find a control law $u$ such that $\\Delta x_n$ and $\\Delta y_n$ converge exponentially to $0$ with a prescribed time constant $T$ ? Consider again the slalom between the pillars when the initial configuration of the robot does not match the reference trajectory but with this new strategy and contrast with the previous attempt."
      ]
    }
  ]
}